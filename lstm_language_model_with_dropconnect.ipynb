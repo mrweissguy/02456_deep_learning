{
  "nbformat": 4,
  "nbformat_minor": 0,
  "metadata": {
    "colab": {
      "name": "DropConnect_Simple_layered_lstm_with_tie_weight_and_lockdrop.ipynb",
      "provenance": [],
      "collapsed_sections": []
    },
    "kernelspec": {
      "name": "python3",
      "display_name": "Python 3"
    },
    "accelerator": "GPU"
  },
  "cells": [
    {
      "cell_type": "markdown",
      "metadata": {
        "id": "rhEM5SjcHpV5",
        "colab_type": "text"
      },
      "source": [
        "# Natural language processing model on PennTreeBank dataset\n",
        "\n",
        "This notebook contains the final architecture of our natural language processing model. Our model is based on [AWD-LSTM model](https://arxiv.org/pdf/1803.08240.pdf).\n",
        "\n",
        "## Experiment\n",
        "The goal is generate proteins by using a [Conditional Transformer Language model](https://einstein.ai/presentations/ctrl.pdf). But before doing that, we want to test multiple Recurrent Neural Net Language Models (RNNLM) and benchmark them on the PennTreeBank dataset. Multiple RNNLMs has been trained and tested in order to find the optimal model, that is included in this notebook. To see the other models, please go to the *other_models* folder.\n",
        "\n",
        "The model accuracy is evaluated in bits per character (BPC), which is a  metric  used  to  describes  theaverage number of bits needed to encode on a character. Accuracy of character-level language models are typically reported in BPC.\n",
        "\n",
        "At the bottom of the notebook, small sequences of of characters are generated based on the trained model.\n",
        "\n",
        "## Pretrained weights for the model\n",
        "The pretrained weights for the model can be found downloaded [here](https://drive.google.com/open?id=19vBZTCBuMbjjYgclTQPA_jlOcTKXK0e5). The models for the save weights are:\n",
        "* pretrained_char_model_weightdrop_and_tieweights_and_lockdrop_1150.pkl\n",
        "  * num_hidden: 1150\n",
        "* pretrained_char_model_weightdrop_and_tieweights_and_lockdrop.pkl\n",
        "  * num_hidden = 1000\n",
        "* pretrained_char_model_weightdrop_and_weight_decay_tieweights.pkl\n",
        "  * num_hidden: 1000\n",
        "  * uncomment lockdrop\n",
        "* pretrained_char_model_weightdrop_and_weight_decay.pkl \n",
        "  * num hidden: 1000\n",
        "  * remove weight decay\n",
        "  * uncomment lockdrop\n",
        "\n",
        "\n",
        "## Referances\n",
        "\n",
        "* TorchText: https://mlexplained.com/2018/02/08/a-comprehensive-tutorial-to-torchtext/\n",
        "* paper on DPR regularization: https://arxiv.org/pdf/1808.05908v4.pdf\n",
        "* tutorial in RNN: https://colab.research.google.com/drive/1jR_DGoVDcxZ104onxTk2C7YeV7vTt1DV#scrollTo=xPVERl79rCYW\n",
        "* papers with code: https://paperswithcode.com/paper/improved-language-modeling-by-decoding-the\n",
        "* trellisnet github: https://github.com/locuslab/trellisnet/tree/master/TrellisNet/char_PTB\n",
        "* Language modeling tutorial in torch: https://mlexplained.com/2018/02/15/language-modeling-tutorial-in-torchtext-practical-torchtext-part-2/\n",
        "* On saving/loading models: https://pytorch.org/tutorials/beginner/saving_loading_models.html\n",
        "* awd-lstm github: https://github.com/salesforce/awd-lstm-lm\n",
        "* RNN training tips: https://towardsdatascience.com/rnn-training-tips-and-tricks-2bf687e67527\n",
        "\n",
        "\n",
        "## Tips\n",
        "When running the notebook in colab, insert following javascript code into the console to precent colab from disconnecting after 30min, due to inactivity.\n",
        "\n",
        "> `function ClickConnect(){\n",
        " console.log(\"Working\"); \n",
        " document.querySelector(\"colab-toolbar-button#connect\").click() \n",
        " }\n",
        " setInterval(ClickConnect,60000)`\n",
        "\n",
        "\n",
        "\n",
        "\n"
      ]
    },
    {
      "cell_type": "markdown",
      "metadata": {
        "id": "BBnstedVKVb-",
        "colab_type": "text"
      },
      "source": [
        "## Importing needed libraries"
      ]
    },
    {
      "cell_type": "code",
      "metadata": {
        "id": "upCMRGg_Hd97",
        "colab_type": "code",
        "colab": {}
      },
      "source": [
        "import torch\n",
        "from torch import nn\n",
        "import torch.nn.functional as F\n",
        "import numpy as np\n",
        "import os\n",
        "import itertools\n",
        "import warnings"
      ],
      "execution_count": 0,
      "outputs": []
    },
    {
      "cell_type": "markdown",
      "metadata": {
        "id": "2EOpDKbvKf-r",
        "colab_type": "text"
      },
      "source": [
        "## Check GPU availabiliy"
      ]
    },
    {
      "cell_type": "code",
      "metadata": {
        "id": "Wnh9sJBiHjpo",
        "colab_type": "code",
        "outputId": "e89a5a2f-4dd2-4f1e-a0ed-c428019f2501",
        "colab": {
          "base_uri": "https://localhost:8080/",
          "height": 381
        }
      },
      "source": [
        "# # check gpu device\n",
        "print(torch.cuda.device_count()) # how many devices available\n",
        "print(torch.cuda.get_device_name(torch.cuda.current_device())) # which device currently in use\n",
        "print(torch.cuda.get_device_capability()) # get the cuda compute capability\n",
        "print(torch.cuda.get_device_properties(torch.cuda.current_device()))\n",
        "!nvidia-smi"
      ],
      "execution_count": 2,
      "outputs": [
        {
          "output_type": "stream",
          "text": [
            "1\n",
            "Tesla P100-PCIE-16GB\n",
            "(6, 0)\n",
            "_CudaDeviceProperties(name='Tesla P100-PCIE-16GB', major=6, minor=0, total_memory=16280MB, multi_processor_count=56)\n",
            "Fri Jan  3 20:41:26 2020       \n",
            "+-----------------------------------------------------------------------------+\n",
            "| NVIDIA-SMI 440.44       Driver Version: 418.67       CUDA Version: 10.1     |\n",
            "|-------------------------------+----------------------+----------------------+\n",
            "| GPU  Name        Persistence-M| Bus-Id        Disp.A | Volatile Uncorr. ECC |\n",
            "| Fan  Temp  Perf  Pwr:Usage/Cap|         Memory-Usage | GPU-Util  Compute M. |\n",
            "|===============================+======================+======================|\n",
            "|   0  Tesla P100-PCIE...  Off  | 00000000:00:04.0 Off |                    0 |\n",
            "| N/A   46C    P0    28W / 250W |     10MiB / 16280MiB |      0%      Default |\n",
            "+-------------------------------+----------------------+----------------------+\n",
            "                                                                               \n",
            "+-----------------------------------------------------------------------------+\n",
            "| Processes:                                                       GPU Memory |\n",
            "|  GPU       PID   Type   Process name                             Usage      |\n",
            "|=============================================================================|\n",
            "|  No running processes found                                                 |\n",
            "+-----------------------------------------------------------------------------+\n"
          ],
          "name": "stdout"
        }
      ]
    },
    {
      "cell_type": "markdown",
      "metadata": {
        "id": "iiGA5ooJeNtU",
        "colab_type": "text"
      },
      "source": [
        "## Access to Google drive\n",
        "The access to Google drive is needed to load in the text files and to save the models during training."
      ]
    },
    {
      "cell_type": "code",
      "metadata": {
        "id": "LVTKYqvrzPwx",
        "colab_type": "code",
        "colab": {}
      },
      "source": [
        "# setting up for google drive\n",
        "from google.colab import drive"
      ],
      "execution_count": 0,
      "outputs": []
    },
    {
      "cell_type": "code",
      "metadata": {
        "id": "ap2UlPDWzP9M",
        "colab_type": "code",
        "outputId": "87ceea5b-1333-4b09-9280-959ba554caaa",
        "colab": {
          "base_uri": "https://localhost:8080/",
          "height": 34
        }
      },
      "source": [
        "drive.mount('/content/drive/')"
      ],
      "execution_count": 4,
      "outputs": [
        {
          "output_type": "stream",
          "text": [
            "Drive already mounted at /content/drive/; to attempt to forcibly remount, call drive.mount(\"/content/drive/\", force_remount=True).\n"
          ],
          "name": "stdout"
        }
      ]
    },
    {
      "cell_type": "markdown",
      "metadata": {
        "id": "F_Tc8e1qYscj",
        "colab_type": "text"
      },
      "source": [
        "## Defining global hyperparameters"
      ]
    },
    {
      "cell_type": "code",
      "metadata": {
        "id": "M934mH6wX3Jt",
        "colab_type": "code",
        "colab": {}
      },
      "source": [
        "BATCH_SIZE = 128\n",
        "SEQ_LEN = 150\n",
        "EPOCHS = 500\n",
        "USE_GPU = True\n",
        "CHARACTER_LEVEL = True"
      ],
      "execution_count": 0,
      "outputs": []
    },
    {
      "cell_type": "markdown",
      "metadata": {
        "id": "3tGaN1G8dWth",
        "colab_type": "text"
      },
      "source": [
        "### Prepare data and generaing batches of words/characters"
      ]
    },
    {
      "cell_type": "code",
      "metadata": {
        "id": "t_j88ilVYlsv",
        "colab_type": "code",
        "colab": {}
      },
      "source": [
        "import spacy\n",
        "from spacy.symbols import ORTH\n",
        "my_tok = spacy.load('en')\n",
        "my_tok.tokenizer.add_special_case('<eos>', [{ORTH: '<eos>'}])\n",
        "my_tok.tokenizer.add_special_case('<bos>', [{ORTH: '<bos>'}])\n",
        "my_tok.tokenizer.add_special_case('<unk>', [{ORTH: '<unk>'}])\n",
        "def spacy_tok(x):\n",
        "    return [tok.text for tok in my_tok.tokenizer(x)]"
      ],
      "execution_count": 0,
      "outputs": []
    },
    {
      "cell_type": "code",
      "metadata": {
        "id": "peGEZmIuYmt-",
        "colab_type": "code",
        "colab": {}
      },
      "source": [
        "from torchtext import data\n",
        "TEXT = data.Field(lower=True, tokenize=spacy_tok)\n",
        "LABEL = data.Field(sequential=False, use_vocab=False)"
      ],
      "execution_count": 0,
      "outputs": []
    },
    {
      "cell_type": "code",
      "metadata": {
        "id": "z4xJD7G3zBbd",
        "colab_type": "code",
        "outputId": "0799a365-b488-4784-860d-8d86e22be114",
        "colab": {
          "base_uri": "https://localhost:8080/",
          "height": 69
        }
      },
      "source": [
        "from torch.utils.data import Dataset, DataLoader\n",
        "import torchvision\n",
        "from torchtext.datasets import LanguageModelingDataset\n",
        "from torchtext.datasets import PennTreebank\n",
        "\n",
        "if CHARACTER_LEVEL:\n",
        "\n",
        "  trn_data, vld_data, tst_data = LanguageModelingDataset.splits(path=\"/content/drive/My Drive/Colab Notebooks/ptb/\", text_field=TEXT,\n",
        "      train='ptb.char.train.txt', validation=\"ptb.char.valid.txt\", test='ptb.char.test.txt', encoding='utf-8')\n",
        "else:\n",
        "  trn_data, vld_data, tst_data = LanguageModelingDataset.splits(path=\"/content/drive/My Drive/Colab Notebooks/ptb/\", text_field=TEXT,\n",
        "      train='ptb.train.txt', validation=\"ptb.valid.txt\", test='ptb.test.txt', encoding='utf-8')\n",
        "\n",
        "\n",
        "train_iter, valid_iter, test_iter = data.BPTTIterator.splits(\n",
        "                                        (trn_data,vld_data,tst_data),\n",
        "                                        batch_size=BATCH_SIZE,\n",
        "                                        bptt_len=SEQ_LEN, # this is where we specify the sequence length\n",
        "                                        device=(0 if USE_GPU else -1),\n",
        "                                        repeat=False)"
      ],
      "execution_count": 8,
      "outputs": [
        {
          "output_type": "stream",
          "text": [
            "The `device` argument should be set by using `torch.device` or passing a string as an argument. This behavior will be deprecated soon and currently defaults to cpu.\n",
            "The `device` argument should be set by using `torch.device` or passing a string as an argument. This behavior will be deprecated soon and currently defaults to cpu.\n",
            "The `device` argument should be set by using `torch.device` or passing a string as an argument. This behavior will be deprecated soon and currently defaults to cpu.\n"
          ],
          "name": "stderr"
        }
      ]
    },
    {
      "cell_type": "markdown",
      "metadata": {
        "id": "D5exmo7tMY67",
        "colab_type": "text"
      },
      "source": [
        "## Building the vocabulary\n",
        "In case of the error: 'BadZipFile: File is not a zip file', when building the vocabulary, try the following.\n",
        "\n",
        "> `!rm -r .vector_cach`\n"
      ]
    },
    {
      "cell_type": "code",
      "metadata": {
        "id": "har_7-TYZHiy",
        "colab_type": "code",
        "colab": {}
      },
      "source": [
        "TEXT.build_vocab(trn_data, vectors=\"glove.6B.200d\")"
      ],
      "execution_count": 0,
      "outputs": []
    },
    {
      "cell_type": "markdown",
      "metadata": {
        "id": "iMUElukRPQnF",
        "colab_type": "text"
      },
      "source": [
        "## Functions from AWD-LSTM\n",
        "The classes and functions in this section is originally from the github relating the paper [An Analysis of Neural Language Modeling at Multiple Scales, by Stephen Merity, Nitish Shirish Keskar and Richard Socher](https://arxiv.org/pdf/1803.08240v1.pdf) and can be found [here](https://github.com/salesforce/awd-lstm-lm). "
      ]
    },
    {
      "cell_type": "code",
      "metadata": {
        "id": "n35dzc14PVKu",
        "colab_type": "code",
        "colab": {}
      },
      "source": [
        "import torch\n",
        "from torch.nn import Parameter\n",
        "from functools import wraps\n",
        "\n",
        "class WeightDrop(torch.nn.Module):\n",
        "    def __init__(self, module, weights, dropout=0, variational=False):\n",
        "        super(WeightDrop, self).__init__()\n",
        "        self.module = module\n",
        "        self.weights = weights\n",
        "        self.dropout = dropout\n",
        "        self.variational = variational\n",
        "        self._setup()\n",
        "\n",
        "    def widget_demagnetizer_y2k_edition(*args, **kwargs):\n",
        "        # We need to replace flatten_parameters with a nothing function\n",
        "        # It must be a function rather than a lambda as otherwise pickling explodes\n",
        "        # We can't write boring code though, so ... WIDGET DEMAGNETIZER Y2K EDITION!\n",
        "        # (╯°□°）╯︵ ┻━┻\n",
        "        return\n",
        "\n",
        "    def _setup(self):\n",
        "        # Terrible temporary solution to an issue regarding compacting weights re: CUDNN RNN\n",
        "        if issubclass(type(self.module), torch.nn.RNNBase):\n",
        "            self.module.flatten_parameters = self.widget_demagnetizer_y2k_edition\n",
        "\n",
        "        for name_w in self.weights:\n",
        "            print('Applying weight drop of {} to {}'.format(self.dropout, name_w))\n",
        "            w = getattr(self.module, name_w)\n",
        "            del self.module._parameters[name_w]\n",
        "            self.module.register_parameter(name_w + '_raw', Parameter(w.data))\n",
        "\n",
        "    def _setweights(self):\n",
        "        for name_w in self.weights:\n",
        "            raw_w = getattr(self.module, name_w + '_raw')\n",
        "            w = None\n",
        "            if self.variational:\n",
        "                mask = torch.autograd.Variable(torch.ones(raw_w.size(0), 1))\n",
        "                if raw_w.is_cuda: mask = mask.cuda()\n",
        "                mask = torch.nn.functional.dropout(mask, p=self.dropout, training=True)\n",
        "\n",
        "                # change from original awd lstm\n",
        "                # based on: https://github.com/salesforce/awd-lstm-lm/issues/79\n",
        "                w = torch.nn.Parameter(mask.expand_as(raw_w) * raw_w)\n",
        "            else:\n",
        "                w = torch.nn.Parameter(torch.nn.functional.dropout(raw_w, p=self.dropout, training=self.training))\n",
        "\n",
        "            setattr(self.module, name_w, w)\n",
        "\n",
        "    def forward(self, *args):\n",
        "        self._setweights()\n",
        "        return self.module.forward(*args)"
      ],
      "execution_count": 0,
      "outputs": []
    },
    {
      "cell_type": "code",
      "metadata": {
        "id": "LRANBAwQPZMj",
        "colab_type": "code",
        "colab": {}
      },
      "source": [
        "import torch\n",
        "import torch.nn as nn\n",
        "from torch.autograd import Variable\n",
        "\n",
        "class LockedDropout(nn.Module):\n",
        "    def __init__(self):\n",
        "        super().__init__()\n",
        "\n",
        "    def forward(self, x, dropout=0.5):\n",
        "        if not self.training or not dropout:\n",
        "            return x\n",
        "        m = x.data.new(1, x.size(1), x.size(2)).bernoulli_(1 - dropout)\n",
        "        mask = Variable(m, requires_grad=False) / (1 - dropout)\n",
        "        mask = mask.expand_as(x)\n",
        "        return mask * x"
      ],
      "execution_count": 0,
      "outputs": []
    },
    {
      "cell_type": "code",
      "metadata": {
        "id": "knPcYtGU97rw",
        "colab_type": "code",
        "colab": {}
      },
      "source": [
        "\n",
        "def repackage_hidden(h):\n",
        "    \"\"\"Wraps hidden states in new Tensors,\n",
        "    to detach them from their history.\"\"\"\n",
        "    if isinstance(h, torch.Tensor):\n",
        "        return h.detach()\n",
        "    else:\n",
        "        return tuple(repackage_hidden(v) for v in h)\n",
        "\n",
        "\n",
        "def batchify(data, bsz, args):\n",
        "    # Work out how cleanly we can divide the dataset into bsz parts.\n",
        "    nbatch = data.size(0) // bsz\n",
        "    # Trim off any extra elements that wouldn't cleanly fit (remainders).\n",
        "    data = data.narrow(0, 0, nbatch * bsz)\n",
        "    # Evenly divide the data across the bsz batches.\n",
        "    data = data.view(bsz, -1).t().contiguous()\n",
        "    if args.cuda:\n",
        "        data = data.cuda()\n",
        "    return data\n",
        "\n",
        "\n",
        "def get_batch(source, i, args, seq_len=None, evaluation=False):\n",
        "    seq_len = min(seq_len if seq_len else args.bptt, len(source) - 1 - i)\n",
        "    data = source[i:i+seq_len]\n",
        "    target = source[i+1:i+1+seq_len].view(-1)\n",
        "    return data, target"
      ],
      "execution_count": 0,
      "outputs": []
    },
    {
      "cell_type": "code",
      "metadata": {
        "id": "tGaVkoXiHrQ0",
        "colab_type": "code",
        "colab": {}
      },
      "source": [
        "def embedded_dropout(embed, words, dropout=0.1, scale=None):\n",
        "  if dropout:\n",
        "    mask = embed.weight.data.new().resize_((embed.weight.size(0), 1)).bernoulli_(1 - dropout).expand_as(embed.weight) / (1 - dropout)\n",
        "    masked_embed_weight = mask * embed.weight\n",
        "  else:\n",
        "    masked_embed_weight = embed.weight\n",
        "  if scale:\n",
        "    masked_embed_weight = scale.expand_as(masked_embed_weight) * masked_embed_weight\n",
        "\n",
        "  padding_idx = embed.padding_idx\n",
        "  if padding_idx is None:\n",
        "      padding_idx = -1\n",
        "\n",
        "  X = torch.nn.functional.embedding(words, masked_embed_weight,\n",
        "    padding_idx, embed.max_norm, embed.norm_type,\n",
        "    embed.scale_grad_by_freq, embed.sparse\n",
        "  )\n",
        "  return X"
      ],
      "execution_count": 0,
      "outputs": []
    },
    {
      "cell_type": "markdown",
      "metadata": {
        "id": "l9nIxax1IOhC",
        "colab_type": "text"
      },
      "source": [
        "# LSTM language model"
      ]
    },
    {
      "cell_type": "code",
      "metadata": {
        "id": "kpw3z0ZEILJq",
        "colab_type": "code",
        "colab": {}
      },
      "source": [
        "from torch.autograd import Variable as V\n",
        "class CharModel(nn.Module):\n",
        "  \n",
        "  def __init__(self, all_chars,\n",
        "               ninp, \n",
        "               num_hidden=256, \n",
        "               num_layers=4,\n",
        "               weight_drop=0.5,\n",
        "               batch_size=200,\n",
        "               tie_weights=False, \n",
        "               use_gpu=False):\n",
        "      \n",
        "      \n",
        "    # SET UP ATTRIBUTES\n",
        "    super().__init__()\n",
        "    self.weight_drop = weight_drop\n",
        "    self.num_layers = num_layers\n",
        "    self.num_hidden = num_hidden\n",
        "    self.use_gpu = use_gpu\n",
        "    self.ninp = ninp #embedding dimension \n",
        "    self.tie_weights = tie_weights\n",
        "    self.batch_size = batch_size\n",
        "    self.lockdrop = LockedDropout()\n",
        "    self.all_chars = all_chars\n",
        "\n",
        "    self.embedding = nn.Embedding(self.all_chars, self.ninp)\n",
        "    \n",
        "    self.lstms = [nn.LSTM(ninp if l == 0 else num_hidden,\n",
        "                          num_hidden if l != num_layers - 1 else (ninp if tie_weights else num_hidden), 1 ,dropout=0) for l in range(num_layers)]\n",
        "\n",
        "    #  the learnable hidden-hidden weights of the layer (W_hi|W_hf|W_hg|W_ho), of shape (4*hidden_size, hidden_size)\n",
        "    self.lstms = [WeightDrop(rnn, ['weight_hh_l0'], dropout=weight_drop) for rnn in self.lstms]\n",
        "    \n",
        "    self.lstms = nn.ModuleList(self.lstms)\n",
        "\n",
        "    self.dropout = nn.Dropout(weight_drop)\n",
        "    \n",
        "    self.fc_linear = nn.Linear(in_features = num_hidden, out_features = self.all_chars)\n",
        "\n",
        "    if tie_weights:\n",
        "        self.fc_linear.weight = self.embedding.weight\n",
        "\n",
        "    self.init_weights()\n",
        "\n",
        "  def init_weights(self):\n",
        "    initrange = 0.1\n",
        "    self.embedding.weight.data.uniform_(-initrange, initrange)\n",
        "    self.fc_linear.bias.data.fill_(0)\n",
        "    self.fc_linear.weight.data.uniform_(-initrange, initrange)\n",
        "\n",
        "  def load_weights(self, model_name):\n",
        "    self.load_state_dict(torch.load(model_name), strict=False)\n",
        "   \n",
        "  def save_weights(self, state, name):\n",
        "    with open(name, 'wb') as f:\n",
        "      # d = self.state_dict()\n",
        "      torch.save(state, f)\n",
        "      print(\"Saving model\")\n",
        "  \n",
        "  def forward(self, input, hidden, return_h=False):\n",
        "\n",
        "    # uncomment to include embedded dropout\n",
        "    # emb = embedded_dropout(self.embedding, input, dropout=0.2 if self.training else 0)\n",
        "\n",
        "    emb = self.embedding(input)\n",
        "\n",
        "    # utilizing lockdrop\n",
        "    emb = self.lockdrop(emb, 0.2)\n",
        "\n",
        "    raw_output = emb\n",
        "    new_hidden = []\n",
        "    raw_outputs = []\n",
        "    outputs = []\n",
        "    for l, rnn in enumerate(self.lstms):\n",
        "        current_input = raw_output\n",
        "        raw_output, new_h = rnn(raw_output, hidden[l])\n",
        "        new_hidden.append(new_h)\n",
        "        raw_outputs.append(raw_output)\n",
        "        if l != self.num_layers - 1:\n",
        "            # utilizing lockdrop\n",
        "            raw_output = self.lockdrop(raw_output, 0.25)\n",
        "            outputs.append(raw_output)\n",
        "    hidden = new_hidden\n",
        "    output = raw_output\n",
        "\n",
        "    linear = self.fc_linear(output.view(output.size(0)*output.size(1),output.size(2))) \n",
        "\n",
        "    result = linear.view(output.size(0)*output.size(1), linear.size(1))\n",
        "\n",
        "    return result, hidden\n",
        "\n",
        "  def init_hidden(self, batch_size):\n",
        "\n",
        "    weight = next(self.parameters()).data\n",
        "    if self.use_gpu:\n",
        "        hidden = [(weight.new(1, batch_size, self.num_hidden if l != self.num_layers - 1 else (self.ninp if self.tie_weights else self.num_hidden)).zero_().cuda(),\n",
        "                weight.new(1, batch_size, self.num_hidden if l != self.num_layers - 1 else (self.ninp if self.tie_weights else self.num_hidden)).zero_().cuda())\n",
        "                for l in range(self.num_layers)]\n",
        "    else:\n",
        "        hidden = [(weight.new(1, batch_size, self.num_hidden if l != self.num_layers - 1 else (self.ninp if self.tie_weights else self.num_hidden)).zero_().cuda(),\n",
        "            weight.new(1, batch_size, self.num_hidden if l != self.num_layers - 1 else (self.ninp if self.tie_weights else self.num_hidden)).zero_().cuda())\n",
        "            for l in range(self.num_layers)]\n",
        "    \n",
        "      \n",
        "    return hidden\n",
        "      "
      ],
      "execution_count": 0,
      "outputs": []
    },
    {
      "cell_type": "code",
      "metadata": {
        "id": "Rnu6I8m5sn5K",
        "colab_type": "code",
        "outputId": "98d96055-9795-464f-a6e0-cae05c8b758e",
        "colab": {
          "base_uri": "https://localhost:8080/",
          "height": 34
        }
      },
      "source": [
        "weight_matrix = TEXT.vocab.vectors\n",
        "print(weight_matrix.shape)"
      ],
      "execution_count": 15,
      "outputs": [
        {
          "output_type": "stream",
          "text": [
            "torch.Size([52, 200])\n"
          ],
          "name": "stdout"
        }
      ]
    },
    {
      "cell_type": "markdown",
      "metadata": {
        "id": "NSsRjv75PR-M",
        "colab_type": "text"
      },
      "source": [
        "## Instantiating the model"
      ]
    },
    {
      "cell_type": "code",
      "metadata": {
        "id": "vQhV641OshYG",
        "colab_type": "code",
        "outputId": "c6f36617-d9f9-4217-a852-38bd737ee9fc",
        "colab": {
          "base_uri": "https://localhost:8080/",
          "height": 364
        }
      },
      "source": [
        "model = CharModel(\n",
        "    all_chars=weight_matrix.size(0),\n",
        "    ninp = weight_matrix.size(1),\n",
        "    num_hidden=1150,\n",
        "    num_layers=3,\n",
        "    weight_drop=0.5,\n",
        "    batch_size = BATCH_SIZE,\n",
        "    tie_weights=True,\n",
        "    use_gpu=True,\n",
        ")\n",
        "print(model)"
      ],
      "execution_count": 16,
      "outputs": [
        {
          "output_type": "stream",
          "text": [
            "Applying weight drop of 0.5 to weight_hh_l0\n",
            "Applying weight drop of 0.5 to weight_hh_l0\n",
            "Applying weight drop of 0.5 to weight_hh_l0\n",
            "CharModel(\n",
            "  (lockdrop): LockedDropout()\n",
            "  (embedding): Embedding(52, 200)\n",
            "  (lstms): ModuleList(\n",
            "    (0): WeightDrop(\n",
            "      (module): LSTM(200, 1150)\n",
            "    )\n",
            "    (1): WeightDrop(\n",
            "      (module): LSTM(1150, 1150)\n",
            "    )\n",
            "    (2): WeightDrop(\n",
            "      (module): LSTM(1150, 200)\n",
            "    )\n",
            "  )\n",
            "  (dropout): Dropout(p=0.5, inplace=False)\n",
            "  (fc_linear): Linear(in_features=1150, out_features=52, bias=True)\n",
            ")\n"
          ],
          "name": "stdout"
        }
      ]
    },
    {
      "cell_type": "markdown",
      "metadata": {
        "id": "3OL2Kc6xPYQq",
        "colab_type": "text"
      },
      "source": [
        "### Counting model parameters"
      ]
    },
    {
      "cell_type": "code",
      "metadata": {
        "id": "H2r7ELOEPb4U",
        "colab_type": "code",
        "colab": {
          "base_uri": "https://localhost:8080/",
          "height": 34
        },
        "outputId": "bbd7a1a0-a921-474a-9b78-1cb07a5ecf18"
      },
      "source": [
        "def number_of_paramters(model):\n",
        "    total_param  = []\n",
        "    for p in model.parameters():\n",
        "        total_param.append(int(p.numel()))\n",
        "    return('Nr of parameters: ', sum(total_param))\n",
        "\n",
        "number_of_paramters(model)"
      ],
      "execution_count": 17,
      "outputs": [
        {
          "output_type": "execute_result",
          "data": {
            "text/plain": [
              "('Nr of parameters: ', 17900452)"
            ]
          },
          "metadata": {
            "tags": []
          },
          "execution_count": 17
        }
      ]
    },
    {
      "cell_type": "markdown",
      "metadata": {
        "id": "EPep8busJeZ2",
        "colab_type": "text"
      },
      "source": [
        "### Defining loss and optimizer"
      ]
    },
    {
      "cell_type": "code",
      "metadata": {
        "id": "GKpuvsMXIfj3",
        "colab_type": "code",
        "colab": {}
      },
      "source": [
        "optimizer = torch.optim.Adam(model.parameters(), lr= 0.002, weight_decay = 1.2e-6)\n",
        "criterion = nn.CrossEntropyLoss()"
      ],
      "execution_count": 0,
      "outputs": []
    },
    {
      "cell_type": "markdown",
      "metadata": {
        "id": "YKYCpzECJhnx",
        "colab_type": "text"
      },
      "source": [
        "### Training the network"
      ]
    },
    {
      "cell_type": "code",
      "metadata": {
        "id": "qUJWkLBqQExe",
        "colab_type": "code",
        "colab": {}
      },
      "source": [
        "# timekeeping function https://github.com/spro/practical-pytorch/blob/master/conditional-char-rnn/conditional-char-rnn.ipynb\n",
        "def time_since(t):\n",
        "    now = time.time()\n",
        "    s = now - t\n",
        "    m = np.floor(s / 60)\n",
        "    s -= m * 60\n",
        "    return '%dm %ds' % (m, s)"
      ],
      "execution_count": 0,
      "outputs": []
    },
    {
      "cell_type": "code",
      "metadata": {
        "id": "dFc3Q74lv0oD",
        "colab_type": "code",
        "colab": {}
      },
      "source": [
        "def load_checkpoint(model, optimizer, filename):\n",
        "    # Note: Input model & optimizer should be pre-defined.  This routine only updates their states.\n",
        "    start_epoch = 0\n",
        "    if os.path.isfile(filename):\n",
        "        print(\"=> loading checkpoint '{}'\".format(filename))\n",
        "        checkpoint = torch.load(filename)\n",
        "        start_epoch = checkpoint['epoch']\n",
        "        model.load_state_dict(checkpoint['state_dict'], strict=False)\n",
        "        optimizer.load_state_dict(checkpoint['optimizer'])\n",
        "        val_losses = checkpoint['val_losses']\n",
        "        train_losses = checkpoint['train_losses']\n",
        "        print(\"=> loaded checkpoint '{}' (epoch {})\"\n",
        "                  .format(filename, checkpoint['epoch']))\n",
        "    else:\n",
        "        print(\"=> no checkpoint found at '{}'\".format(filename))\n",
        "\n",
        "    return model, optimizer, start_epoch, val_losses, train_losses"
      ],
      "execution_count": 0,
      "outputs": []
    },
    {
      "cell_type": "code",
      "metadata": {
        "id": "Y_Wd5ZabJjQc",
        "colab_type": "code",
        "colab": {}
      },
      "source": [
        "# setting up variables\n",
        "epochs = EPOCHS\n",
        "batch_size = BATCH_SIZE\n",
        "seq_len = SEQ_LEN # nr of characters\n",
        "vocab_size= len(TEXT.vocab)"
      ],
      "execution_count": 0,
      "outputs": []
    },
    {
      "cell_type": "code",
      "metadata": {
        "id": "jJbqKDqZJoNj",
        "colab_type": "code",
        "outputId": "1dc4c594-9685-40b3-e4c1-5e902c7bc330",
        "colab": {
          "base_uri": "https://localhost:8080/",
          "height": 1000
        }
      },
      "source": [
        "import time\n",
        "import matplotlib.pyplot as plt\n",
        "\n",
        "# on the warning that we are getting see: https://github.com/salesforce/awd-lstm-lm/issues/7 \n",
        "warnings.filterwarnings(action='once')\n",
        "\n",
        "start_time = time.time() # start timer\n",
        "\n",
        "best_val_loss = None\n",
        "\n",
        "start_epoch = 0\n",
        "# tracking loss\n",
        "training_loss, validation_loss = [], []\n",
        "\n",
        "best_model = \"/content/drive/My Drive/Colab Notebooks/nets/pretrained_char_model_weightdrop_and_tieweights_and_lockdrop_1150.pkl\"\n",
        "\n",
        "model.train()\n",
        "if model.use_gpu:\n",
        "    dvc = torch.cuda.current_device()\n",
        "    model.cuda()\n",
        "    print('Using GPU %s with compute capability %s' % (torch.cuda.get_device_name(dvc),torch.cuda.get_device_capability(dvc)))\n",
        "\n",
        "# check if we have previous saved models in our directory \n",
        "# and continue traning them\n",
        "try:\n",
        "  model, optimizer, start_epoch, val_losses, train_losses = load_checkpoint(model=model, optimizer=optimizer, filename=best_model)\n",
        "  training_loss = train_losses\n",
        "  validation_loss = val_losses\n",
        "  model.load_weights(best_model)\n",
        "  print('continue traning on the model weights..')\n",
        "  print(f'loaded model has been trained for: {start_epoch} epochs.')\n",
        "except:\n",
        "  print('failed to load previous model')\n",
        "  \n",
        "# substracting the epochs that the model has already trained\n",
        "epochs = epochs - start_epoch # det her er nok en fejl --------------------------------------------------------------------\n",
        "\n",
        "# for each epoch\n",
        "for i in range(epochs):\n",
        "\n",
        "    # adding the epochs from the loaded session\n",
        "    i = i+start_epoch\n",
        "\n",
        "    epoch_training_loss = 0\n",
        "    epoch_validation_loss = 0\n",
        "\n",
        "    val_hidden = model.init_hidden(batch_size)\n",
        "\n",
        "    model.eval()\n",
        "    \n",
        "    # for each sentence in validation set\n",
        "    # for x,y in generate_batches(encoded_test_data, batch_size, seq_len):\n",
        "    for x in test_iter:\n",
        "\n",
        "        # check for the last value as it might not be the full seq length -> which will give an error\n",
        "        if len(x.text)  == SEQ_LEN:\n",
        "\n",
        "            if model.use_gpu:\n",
        "                inputs = x.text.cuda()\n",
        "                targets = x.target.cuda()\n",
        "            else:\n",
        "                inputs = x.text\n",
        "                targets = x.target\n",
        "                \n",
        "            # avoid bagpropagating all the way to the beginning\n",
        "            val_hidden = repackage_hidden(val_hidden)\n",
        "            \n",
        "            lstm_output, val_hidden = model.forward(inputs,val_hidden)\n",
        "\n",
        "            val_loss = criterion(lstm_output, targets.view(batch_size*seq_len).long())\n",
        "\n",
        "            epoch_validation_loss += val_loss.item()\n",
        "\n",
        "    model.train()\n",
        "    \n",
        "    hidden = model.init_hidden(batch_size)\n",
        "    \n",
        "    # for x,y in generate_batches(encoded_train_data, batch_size, seq_len):\n",
        "    for y in train_iter:\n",
        "    # for y in itertools.islice(train_iter, 500):\n",
        "\n",
        "        # check for the last value as it might not be the full seq length -> which will give an error\n",
        "        if len(y.text)  == SEQ_LEN:\n",
        "\n",
        "          if model.use_gpu:\n",
        "              inputs = y.text.cuda()\n",
        "              targets = y.target.cuda()\n",
        "          else:\n",
        "              inputs = y.text\n",
        "              targets = y.target\n",
        "            \n",
        "              \n",
        "          # Reset Hidden State\n",
        "          # If we dont' reset we would backpropagate through all training history\n",
        "          # hidden = tuple([state.data for state in hidden])\n",
        "          hidden = repackage_hidden(hidden)\n",
        "\n",
        "          model.zero_grad()\n",
        "          \n",
        "          lstm_output, hidden = model.forward(inputs,hidden)\n",
        "\n",
        "          loss = criterion(lstm_output, targets.view(batch_size*seq_len).long())\n",
        "          # loss = criterion(lstm_output.view(-1,vocab_size), targets.view(-1))\n",
        "          epoch_training_loss += loss.item()\n",
        "          \n",
        "          loss.backward()\n",
        "          \n",
        "          # clipping the grapdient to avoid possible exploding gradient problem.\n",
        "          nn.utils.clip_grad_norm_(model.parameters(),max_norm=5)\n",
        "          \n",
        "          optimizer.step()\n",
        "        \n",
        "    # calculating the avg. loss pr/epoch and saving it to a list.\n",
        "    # we are substracting 1, since the last line does not have the correct sequence length.\n",
        "    # this could be done more elegantly\n",
        "    training_loss.append(epoch_training_loss/(len(train_iter)-1))\n",
        "    validation_loss.append(epoch_validation_loss/(len(test_iter)-1))\n",
        "\n",
        "    # Print loss every x epochs\n",
        "    if i % 1 == 0:\n",
        "        state = {'epoch': i + 1, 'state_dict': model.state_dict(), 'optimizer': optimizer.state_dict(), 'val_losses': validation_loss, 'train_losses': training_loss}\n",
        "        model.save_weights(state, best_model)\n",
        "\n",
        "        if CHARACTER_LEVEL:\n",
        "          # showing bits per characters - relevant for character level examination\n",
        "          print(f'Time {time_since(start_time)}, Epoch {i+1}, training loss: {training_loss[-1]}, validation loss: {validation_loss[-1]}, bpc: {validation_loss[-1] / np.log(2)}')\n",
        "        else:\n",
        "          # showing perplexity - relevant for word level examination\n",
        "          print(f'Time {time_since(start_time)}, Epoch {i+1}, training loss: {training_loss[-1]}, validation loss: {validation_loss[-1]}, ppl: {np.exp(validation_loss[-1])}')\n",
        "        \n",
        "print(\"--- training time: %s seconds ---\" % (time_since(start_time)))\n",
        "\n",
        "print(\"Input sentence\")\n",
        "print(inputs)\n",
        "\n",
        "print(\"Target sentence\")\n",
        "print(targets)\n",
        "\n",
        "# Plot training and validation loss\n",
        "epoch = np.arange(len(training_loss))\n",
        "plt.figure()\n",
        "plt.plot(epoch, training_loss, 'r', label='Training loss',)\n",
        "plt.plot(epoch, validation_loss, 'b', label='Validation loss')\n",
        "plt.legend()\n",
        "plt.xlabel('Epoch'), plt.ylabel('NLL')\n",
        "plt.show()"
      ],
      "execution_count": 24,
      "outputs": [
        {
          "output_type": "stream",
          "text": [
            "outout removed\n"
          ],
          "name": "stdout"
        },
        {
          "output_type": "stream",
          "text": [
            "/pytorch/aten/src/ATen/native/cudnn/RNN.cpp:1268: UserWarning: RNN module weights are not part of single contiguous chunk of memory. This means they need to be compacted at every call, possibly greatly increasing memory usage. To compact weights again call flatten_parameters().\n"
          ],
          "name": "stderr"
        },
        {
          "output_type": "stream",
          "text": [
            
          ],
          "name": "stdout"
        }
        
      ]
    },
    {
      "cell_type": "markdown",
      "metadata": {
        "id": "POcWzGWKRGwC",
        "colab_type": "text"
      },
      "source": [
        "## Evaluate the training\n",
        "We evaluate the models based on the saved weights. First import the saved model (if needed) and plot the training/validation loss from the tranining of the model.\n"
      ]
    },
    {
      "cell_type": "code",
      "metadata": {
        "id": "BuuZdT79kGzf",
        "colab_type": "code",
        "outputId": "258d9c7b-5db8-4fa7-985a-54322d87592a",
        "colab": {
          "base_uri": "https://localhost:8080/",
          "height": 52
        }
      },
      "source": [
        "# load and print model\n",
        "import matplotlib.pyplot as plt\n",
        "best_model = \"/content/drive/My Drive/Colab Notebooks/nets/pretrained_char_model_weightdrop_and_tieweights_and_lockdrop_1150.pkl\"\n",
        "\n",
        "model, optimizer, start_epoch, val_losses, train_losses = load_checkpoint(model=model, optimizer=optimizer, filename=best_model)"
      ],
      "execution_count": 22,
      "outputs": [
        {
          "output_type": "stream",
          "text": [
            "=> loading checkpoint '/content/drive/My Drive/Colab Notebooks/nets/pretrained_char_model_weightdrop_and_tieweights_and_lockdrop_1150.pkl'\n",
            "=> loaded checkpoint '/content/drive/My Drive/Colab Notebooks/nets/pretrained_char_model_weightdrop_and_tieweights_and_lockdrop_1150.pkl' (epoch 473)\n"
          ],
          "name": "stdout"
        }
      ]
    },
    {
      "cell_type": "code",
      "metadata": {
        "id": "ecspopGkLZez",
        "colab_type": "code",
        "outputId": "aa9e1cf7-0a6f-4473-950f-e92b17c39221",
        "colab": {
          "base_uri": "https://localhost:8080/",
          "height": 513
        }
      },
      "source": [
        "# Plot training and validation loss\n",
        "epoch = np.arange(len(val_losses))\n",
        "plt.figure(figsize=(16,8))\n",
        "plt.plot(epoch, train_losses, 'r', label='Training loss',)\n",
        "plt.plot(epoch, val_losses, 'b', label='Validation loss')\n",
        "plt.legend()\n",
        "plt.title(\"Training/validation loss during training of LSTM model, using DropConnect, weight decay, weight tying and lockdrop.\")\n",
        "plt.xlabel('Epoch'), plt.ylabel('NLL')\n",
        "\n",
        "plt.savefig('/content/drive/My Drive/Colab Notebooks/training_validation loss during training of LSTM model using DropConnect weight decay weight tying and lockdrop.png')\n",
        "plt.show()"
      ],
      "execution_count": 23,
      "outputs": [
        {
          "output_type": "display_data",
          "data": {
            "image/png": "[encoded data removed]",
            "text/plain": [
              "<Figure size 1152x576 with 1 Axes>"
            ]
          },
          "metadata": {
            "tags": []
          }
        }
      ]
    },
    {
      "cell_type": "markdown",
      "metadata": {
        "id": "vzLYTISrQowv",
        "colab_type": "text"
      },
      "source": [
        "Getting the lowest validation loss."
      ]
    },
    {
      "cell_type": "code",
      "metadata": {
        "id": "399aD5bCGaGw",
        "colab_type": "code",
        "outputId": "ffe5bd03-7297-443b-e067-c3ea7fe593cf",
        "colab": {
          "base_uri": "https://localhost:8080/",
          "height": 34
        }
      },
      "source": [
        "def get_lowest_bpc(val_losses=val_losses):\n",
        "    return min(val_losses) / np.log(2)\n",
        "\n",
        "get_lowest_bpc(val_losses)"
      ],
      "execution_count": 24,
      "outputs": [
        {
          "output_type": "execute_result",
          "data": {
            "text/plain": [
              "1.3105184213726693"
            ]
          },
          "metadata": {
            "tags": []
          },
          "execution_count": 24
        }
      ]
    },
    {
      "cell_type": "markdown",
      "metadata": {
        "id": "Y2gXMvybE36A",
        "colab_type": "text"
      },
      "source": [
        "# Generate predictions\n",
        "We generate some text based on the model we have trained."
      ]
    },
    {
      "cell_type": "code",
      "metadata": {
        "id": "UUgk68rS7Frt",
        "colab_type": "code",
        "colab": {}
      },
      "source": [
        "# emptying cache to avoid ot of memory errors for big models\n",
        "# if this is not enough and the CUDA out of memory appears, restart the notebook and load in the model again.\n",
        "torch.cuda.empty_cache()"
      ],
      "execution_count": 0,
      "outputs": []
    },
    {
      "cell_type": "code",
      "metadata": {
        "id": "pn2SgmkSE3NW",
        "colab_type": "code",
        "colab": {}
      },
      "source": [
        "from tqdm import tqdm\n",
        "import random\n",
        "\n",
        "warnings.filterwarnings('ignore')\n",
        "\n",
        "test_preds = []\n",
        "def predict_next_character(model, char, hidden=None, k=1):\n",
        "\n",
        "  # getting the character id from the vocabulary\n",
        "  char_id = TEXT.vocab.stoi[char]\n",
        "\n",
        "  char_id = np.array([[char_id]])\n",
        "\n",
        "  char_id = torch.from_numpy(np.array(char_id))\n",
        "\n",
        "  if model.use_gpu:\n",
        "    char_id = char_id.cuda()\n",
        "\n",
        "  # avoid backpropagating over the entire sequence\n",
        "  repackage_hidden(hidden)\n",
        "\n",
        "  preds, hidden = model(char_id, hidden)\n",
        "\n",
        "  # getting a probability distribution of the possible next characters/words\n",
        "  probs = F.softmax(preds, dim=1).data\n",
        "\n",
        "  if model.use_gpu:\n",
        "    probs = probs.cpu()\n",
        "\n",
        "  probs, index_positions = probs.topk(k) # change k to variable\n",
        "\n",
        "  index_positions = index_positions.transpose(0, 1).contiguous().view(-1)\n",
        "\n",
        "  probs = probs.numpy().flatten()\n",
        "\n",
        "  probs = probs/probs.sum()\n",
        "\n",
        "  char_id = np.random.choice(index_positions, p=probs)\n",
        "\n",
        "  # converting from interger to string\n",
        "  char = TEXT.vocab.itos[char_id]\n",
        "\n",
        "  return char, hidden"
      ],
      "execution_count": 0,
      "outputs": []
    },
    {
      "cell_type": "code",
      "metadata": {
        "id": "BPUjTLuahnTt",
        "colab_type": "code",
        "colab": {}
      },
      "source": [
        "def generate_text(model, size, seed='the', k=1): # k is the top most probabilities characters\n",
        "  output_chars = []\n",
        "  if model.use_gpu:\n",
        "    model.cuda()\n",
        "  else:\n",
        "    model.cpu()\n",
        "  # setting the model in evalluating state\n",
        "  model.eval()\n",
        "\n",
        "  if CHARACTER_LEVEL: \n",
        "    output_chars = [c for c in seed]\n",
        "  else:\n",
        "    output_chars.append(seed)\n",
        "    \n",
        "  hidden = model.init_hidden(1)\n",
        "\n",
        "  # starting predictions from the seed\n",
        "  for char in seed:\n",
        "    char, hidden = predict_next_character(model, char, hidden, k=k)\n",
        "  output_chars.append(char)\n",
        "\n",
        "  # generating new text\n",
        "  for i in range(size): \n",
        "    char, hidden = predict_next_character(model, output_chars[-1], hidden, k=k)\n",
        "\n",
        "\n",
        "    output_chars.append(char)\n",
        "\n",
        "  return ''.join(output_chars)"
      ],
      "execution_count": 0,
      "outputs": []
    },
    {
      "cell_type": "code",
      "metadata": {
        "id": "awEKiz2eIeVV",
        "colab_type": "code",
        "outputId": "ab0faca4-903d-46b4-8dda-5eff7b181608",
        "colab": {
          "base_uri": "https://localhost:8080/",
          "height": 34
        }
      },
      "source": [
        "print(generate_text(model, 100, seed='the_', k=3))"
      ],
      "execution_count": 31,
      "outputs": [
        {
          "output_type": "stream",
          "text": [
            "the_company_said_the_acquisition_was_too_much_important_that_in_the_coming_months<eos> analysts_and_analysts_\n"
          ],
          "name": "stdout"
        }
      ]
    },
    {
      "cell_type": "markdown",
      "metadata": {
        "id": "RY2MJjl_ECGi",
        "colab_type": "text"
      },
      "source": [
        "## Evaluate the other models\n",
        "Let's take a quick look at how the other models trained by loading in their weighs, plotting their losses during training and calculating the BPC."
      ]
    },
    {
      "cell_type": "markdown",
      "metadata": {
        "id": "KGMddE8OE1Bz",
        "colab_type": "text"
      },
      "source": [
        "### Training/validation loss during training of LSTM model using:\n",
        "* DropConnect \n",
        "* weight decay\n",
        "* weight tying \n",
        "* lockdrop \n",
        "* hidden: 1000"
      ]
    },
    {
      "cell_type": "markdown",
      "metadata": {
        "id": "r8p-hC3qK6D3",
        "colab_type": "text"
      },
      "source": [
        "The model need to fit the parameters saved with the weights."
      ]
    },
    {
      "cell_type": "code",
      "metadata": {
        "id": "PsXUUijcEUPg",
        "colab_type": "code",
        "colab": {
          "base_uri": "https://localhost:8080/",
          "height": 364
        },
        "outputId": "e9d23284-75fc-4c03-cb0c-552f05150cf2"
      },
      "source": [
        "model = CharModel(\n",
        "    all_chars=weight_matrix.size(0),\n",
        "    ninp = weight_matrix.size(1),\n",
        "    num_hidden=1000,\n",
        "    num_layers=3,\n",
        "    weight_drop=0.5,\n",
        "    batch_size = BATCH_SIZE,\n",
        "    tie_weights=True,\n",
        "    use_gpu=True,\n",
        ")\n",
        "print(model)"
      ],
      "execution_count": 33,
      "outputs": [
        {
          "output_type": "stream",
          "text": [
            "Applying weight drop of 0.5 to weight_hh_l0\n",
            "Applying weight drop of 0.5 to weight_hh_l0\n",
            "Applying weight drop of 0.5 to weight_hh_l0\n",
            "CharModel(\n",
            "  (lockdrop): LockedDropout()\n",
            "  (embedding): Embedding(52, 200)\n",
            "  (lstms): ModuleList(\n",
            "    (0): WeightDrop(\n",
            "      (module): LSTM(200, 1000)\n",
            "    )\n",
            "    (1): WeightDrop(\n",
            "      (module): LSTM(1000, 1000)\n",
            "    )\n",
            "    (2): WeightDrop(\n",
            "      (module): LSTM(1000, 200)\n",
            "    )\n",
            "  )\n",
            "  (dropout): Dropout(p=0.5, inplace=False)\n",
            "  (fc_linear): Linear(in_features=1000, out_features=52, bias=True)\n",
            ")\n"
          ],
          "name": "stdout"
        }
      ]
    },
    {
      "cell_type": "code",
      "metadata": {
        "id": "y5zdbINoEF_s",
        "colab_type": "code",
        "colab": {
          "base_uri": "https://localhost:8080/",
          "height": 52
        },
        "outputId": "2cbc9c9e-730f-41e9-c573-5ab3c608dc77"
      },
      "source": [
        "# load and print model\n",
        "import matplotlib.pyplot as plt\n",
        "best_model = \"/content/drive/My Drive/Colab Notebooks/nets/pretrained_char_model_weightdrop_and_tieweights_and_lockdrop.pkl\"\n",
        "\n",
        "model, optimizer, start_epoch, val_losses, train_losses = load_checkpoint(model=model, optimizer=optimizer, filename=best_model)"
      ],
      "execution_count": 34,
      "outputs": [
        {
          "output_type": "stream",
          "text": [
            "=> loading checkpoint '/content/drive/My Drive/Colab Notebooks/nets/pretrained_char_model_weightdrop_and_tieweights_and_lockdrop.pkl'\n",
            "=> loaded checkpoint '/content/drive/My Drive/Colab Notebooks/nets/pretrained_char_model_weightdrop_and_tieweights_and_lockdrop.pkl' (epoch 500)\n"
          ],
          "name": "stdout"
        }
      ]
    },
    {
      "cell_type": "code",
      "metadata": {
        "id": "WWzJLapBELJh",
        "colab_type": "code",
        "colab": {
          "base_uri": "https://localhost:8080/",
          "height": 513
        },
        "outputId": "6a63ce81-e62d-4139-b2fb-2833f14adf10"
      },
      "source": [
        "# Plot training and validation loss\n",
        "epoch = np.arange(len(val_losses))\n",
        "plt.figure(figsize=(16,8))\n",
        "plt.plot(epoch, train_losses, 'r', label='Training loss',)\n",
        "plt.plot(epoch, val_losses, 'b', label='Validation loss')\n",
        "plt.legend()\n",
        "plt.title(\"Training/validation loss during training of LSTM model, using DropConnect, weight decay, weight tying and lockdrop (h = 1000).\")\n",
        "plt.xlabel('Epoch'), plt.ylabel('NLL')\n",
        "\n",
        "plt.savefig('/content/drive/My Drive/Colab Notebooks/training_validation loss during training of LSTM model using DropConnect weight decay weight tying and lockdrop and h=1000.png')\n",
        "plt.show()"
      ],
      "execution_count": 35,
      "outputs": [
        {
          "output_type": "display_data",
          "data": {
            "image/png": "[encoded data removed]",
            "text/plain": [
              "<Figure size 1152x576 with 1 Axes>"
            ]
          },
          "metadata": {
            "tags": []
          }
        }
      ]
    },
    {
      "cell_type": "markdown",
      "metadata": {
        "id": "-qc0ceePFHVT",
        "colab_type": "text"
      },
      "source": [
        "Calculating BPC"
      ]
    },
    {
      "cell_type": "code",
      "metadata": {
        "id": "fEoD4tnVEme9",
        "colab_type": "code",
        "colab": {
          "base_uri": "https://localhost:8080/",
          "height": 34
        },
        "outputId": "5d2c2298-a193-4caa-8979-592bcb7b6b54"
      },
      "source": [
        "get_lowest_bpc(val_losses)"
      ],
      "execution_count": 36,
      "outputs": [
        {
          "output_type": "execute_result",
          "data": {
            "text/plain": [
              "1.3165259884762441"
            ]
          },
          "metadata": {
            "tags": []
          },
          "execution_count": 36
        }
      ]
    },
    {
      "cell_type": "markdown",
      "metadata": {
        "id": "X9ZXpfHKFKfy",
        "colab_type": "text"
      },
      "source": [
        "### Training/validation loss during training of LSTM model using:\n",
        "* DropConnect \n",
        "* weight decay\n",
        "* weight tying \n",
        "* hidden: 1000"
      ]
    },
    {
      "cell_type": "code",
      "metadata": {
        "id": "r64UjZnmErNm",
        "colab_type": "code",
        "colab": {
          "base_uri": "https://localhost:8080/",
          "height": 52
        },
        "outputId": "25374fea-92e5-44b3-83f2-b639f4dde1cc"
      },
      "source": [
        "# load and print model\n",
        "import matplotlib.pyplot as plt\n",
        "best_model = \"/content/drive/My Drive/Colab Notebooks/nets/pretrained_char_model_weightdrop_and_tieweights.pkl\"\n",
        "\n",
        "model, optimizer, start_epoch, val_losses, train_losses = load_checkpoint(model=model, optimizer=optimizer, filename=best_model)"
      ],
      "execution_count": 37,
      "outputs": [
        {
          "output_type": "stream",
          "text": [
            "=> loading checkpoint '/content/drive/My Drive/Colab Notebooks/nets/pretrained_char_model_weightdrop_and_tieweights.pkl'\n",
            "=> loaded checkpoint '/content/drive/My Drive/Colab Notebooks/nets/pretrained_char_model_weightdrop_and_tieweights.pkl' (epoch 413)\n"
          ],
          "name": "stdout"
        }
      ]
    },
    {
      "cell_type": "code",
      "metadata": {
        "id": "0LfAFbJOFUfp",
        "colab_type": "code",
        "colab": {
          "base_uri": "https://localhost:8080/",
          "height": 513
        },
        "outputId": "e7832bde-cc66-4987-fda6-110493bd7ea8"
      },
      "source": [
        "# Plot training and validation loss\n",
        "epoch = np.arange(len(val_losses))\n",
        "plt.figure(figsize=(16,8))\n",
        "plt.plot(epoch, train_losses, 'r', label='Training loss',)\n",
        "plt.plot(epoch, val_losses, 'b', label='Validation loss')\n",
        "plt.legend()\n",
        "plt.title(\"Training/validation loss during training of LSTM model, using DropConnect, weight decay, weight tying (h = 1000).\")\n",
        "plt.xlabel('Epoch'), plt.ylabel('NLL')\n",
        "\n",
        "plt.savefig('/content/drive/My Drive/Colab Notebooks/training_validation loss during training of LSTM model using DropConnect weight decay weight tying h=1000.png')\n",
        "plt.show()"
      ],
      "execution_count": 38,
      "outputs": [
        {
          "output_type": "display_data",
          "data": {
            "image/png": "[encoded data removed]",
            "text/plain": [
              "<Figure size 1152x576 with 1 Axes>"
            ]
          },
          "metadata": {
            "tags": []
          }
        }
      ]
    },
    {
      "cell_type": "markdown",
      "metadata": {
        "id": "LJpTmVbHFpuV",
        "colab_type": "text"
      },
      "source": [
        "Calculating BPC"
      ]
    },
    {
      "cell_type": "code",
      "metadata": {
        "id": "EERWzxS6Fnsn",
        "colab_type": "code",
        "colab": {
          "base_uri": "https://localhost:8080/",
          "height": 34
        },
        "outputId": "798062f0-eaae-4a58-9166-483fdd7e2b0b"
      },
      "source": [
        "get_lowest_bpc(val_losses)"
      ],
      "execution_count": 39,
      "outputs": [
        {
          "output_type": "execute_result",
          "data": {
            "text/plain": [
              "1.3113175798861894"
            ]
          },
          "metadata": {
            "tags": []
          },
          "execution_count": 39
        }
      ]
    },
    {
      "cell_type": "markdown",
      "metadata": {
        "id": "fgWgJbWnF3rV",
        "colab_type": "text"
      },
      "source": [
        "### Training/validation loss during training of LSTM model using:\n",
        "* DropConnect \n",
        "* weight decay\n",
        "* hidden: 1000"
      ]
    },
    {
      "cell_type": "code",
      "metadata": {
        "id": "Vtc0AA-yGVD1",
        "colab_type": "code",
        "colab": {
          "base_uri": "https://localhost:8080/",
          "height": 364
        },
        "outputId": "46d5e765-9a2b-41ee-f019-bfef54b39c79"
      },
      "source": [
        "model = CharModel(\n",
        "    all_chars=weight_matrix.size(0),\n",
        "    ninp = weight_matrix.size(1),\n",
        "    num_hidden=1000,\n",
        "    num_layers=3,\n",
        "    weight_drop=0.5,\n",
        "    batch_size = BATCH_SIZE,\n",
        "    tie_weights=False,\n",
        "    use_gpu=True,\n",
        ")\n",
        "print(model)"
      ],
      "execution_count": 40,
      "outputs": [
        {
          "output_type": "stream",
          "text": [
            "Applying weight drop of 0.5 to weight_hh_l0\n",
            "Applying weight drop of 0.5 to weight_hh_l0\n",
            "Applying weight drop of 0.5 to weight_hh_l0\n",
            "CharModel(\n",
            "  (lockdrop): LockedDropout()\n",
            "  (embedding): Embedding(52, 200)\n",
            "  (lstms): ModuleList(\n",
            "    (0): WeightDrop(\n",
            "      (module): LSTM(200, 1000)\n",
            "    )\n",
            "    (1): WeightDrop(\n",
            "      (module): LSTM(1000, 1000)\n",
            "    )\n",
            "    (2): WeightDrop(\n",
            "      (module): LSTM(1000, 1000)\n",
            "    )\n",
            "  )\n",
            "  (dropout): Dropout(p=0.5, inplace=False)\n",
            "  (fc_linear): Linear(in_features=1000, out_features=52, bias=True)\n",
            ")\n"
          ],
          "name": "stdout"
        }
      ]
    },
    {
      "cell_type": "code",
      "metadata": {
        "id": "APwP2UsLInRg",
        "colab_type": "code",
        "colab": {}
      },
      "source": [
        "optimizer = torch.optim.Adam(model.parameters(), lr= 0.002, weight_decay = 1.2e-6)\n",
        "criterion = nn.CrossEntropyLoss()"
      ],
      "execution_count": 0,
      "outputs": []
    },
    {
      "cell_type": "code",
      "metadata": {
        "id": "fT20M58BFr4m",
        "colab_type": "code",
        "colab": {
          "base_uri": "https://localhost:8080/",
          "height": 52
        },
        "outputId": "933bfec5-5655-41b2-f6fc-b4829668dd7e"
      },
      "source": [
        "# load and print model\n",
        "import matplotlib.pyplot as plt\n",
        "best_model = \"/content/drive/My Drive/Colab Notebooks/nets/pretrained_char_model_weightdrop_and_weight_decay.pkl\"\n",
        "\n",
        "model, optimizer, start_epoch, val_losses, train_losses = load_checkpoint(model=model, optimizer=optimizer, filename=best_model)"
      ],
      "execution_count": 42,
      "outputs": [
        {
          "output_type": "stream",
          "text": [
            "=> loading checkpoint '/content/drive/My Drive/Colab Notebooks/nets/pretrained_char_model_weightdrop_and_weight_decay.pkl'\n",
            "=> loaded checkpoint '/content/drive/My Drive/Colab Notebooks/nets/pretrained_char_model_weightdrop_and_weight_decay.pkl' (epoch 269)\n"
          ],
          "name": "stdout"
        }
      ]
    },
    {
      "cell_type": "code",
      "metadata": {
        "id": "PHHVj1ndIxKF",
        "colab_type": "code",
        "colab": {
          "base_uri": "https://localhost:8080/",
          "height": 513
        },
        "outputId": "9a0c99ca-d90d-4eca-9a31-1e8caf539666"
      },
      "source": [
        "# Plot training and validation loss\n",
        "epoch = np.arange(len(val_losses))\n",
        "plt.figure(figsize=(16,8))\n",
        "plt.plot(epoch, train_losses, 'r', label='Training loss',)\n",
        "plt.plot(epoch, val_losses, 'b', label='Validation loss')\n",
        "plt.legend()\n",
        "plt.title(\"Training/validation loss during training of LSTM model, using DropConnect, weight decay, weight tying (h = 1000).\")\n",
        "plt.xlabel('Epoch'), plt.ylabel('NLL')\n",
        "\n",
        "plt.savefig('/content/drive/My Drive/Colab Notebooks/training_validation loss during training of LSTM model using DropConnect weight decay weight tying h=1000.png')\n",
        "plt.show()"
      ],
      "execution_count": 43,
      "outputs": [
        {
          "output_type": "display_data",
          "data": {
            "image/png": "[encoded data removed]",
            "text/plain": [
              "<Figure size 1152x576 with 1 Axes>"
            ]
          },
          "metadata": {
            "tags": []
          }
        }
      ]
    },
    {
      "cell_type": "markdown",
      "metadata": {
        "id": "ZpclizGZH1tE",
        "colab_type": "text"
      },
      "source": [
        "### Training/validation loss during training of LSTM model using:\n",
        "* DropConnect \n",
        "* hidden: 1000"
      ]
    },
    {
      "cell_type": "code",
      "metadata": {
        "id": "hDd6ChrLH4Q8",
        "colab_type": "code",
        "colab": {
          "base_uri": "https://localhost:8080/",
          "height": 52
        },
        "outputId": "47cb5b1c-bb8a-4555-b3e2-5b77c3c18af6"
      },
      "source": [
        "# load and print model\n",
        "import matplotlib.pyplot as plt\n",
        "best_model = \"/content/drive/My Drive/Colab Notebooks/nets/pretrained_char_model_weightdrop.pkl\"\n",
        "\n",
        "model, optimizer, start_epoch, val_losses, train_losses = load_checkpoint(model=model, optimizer=optimizer, filename=best_model)"
      ],
      "execution_count": 47,
      "outputs": [
        {
          "output_type": "stream",
          "text": [
            "=> loading checkpoint '/content/drive/My Drive/Colab Notebooks/nets/pretrained_char_model_weightdrop.pkl'\n",
            "=> loaded checkpoint '/content/drive/My Drive/Colab Notebooks/nets/pretrained_char_model_weightdrop.pkl' (epoch 204)\n"
          ],
          "name": "stdout"
        }
      ]
    },
    {
      "cell_type": "code",
      "metadata": {
        "id": "8bedW2ygH4dv",
        "colab_type": "code",
        "colab": {
          "base_uri": "https://localhost:8080/",
          "height": 513
        },
        "outputId": "23134974-52aa-42cc-9de3-b35cebaa651c"
      },
      "source": [
        "# Plot training and validation loss\n",
        "epoch = np.arange(len(val_losses))\n",
        "plt.figure(figsize=(16,8))\n",
        "plt.plot(epoch, train_losses, 'r', label='Training loss',)\n",
        "plt.plot(epoch, val_losses, 'b', label='Validation loss')\n",
        "plt.legend()\n",
        "plt.title(\"Training/validation loss during training of LSTM model, using DropConnect, weight decay, weight tying (h = 1000).\")\n",
        "plt.xlabel('Epoch'), plt.ylabel('NLL')\n",
        "\n",
        "plt.savefig('/content/drive/My Drive/Colab Notebooks/training_validation loss during training of LSTM model using DropConnect weight decay weight tying h=1000.png')\n",
        "plt.show()"
      ],
      "execution_count": 48,
      "outputs": [
        {
          "output_type": "display_data",
          "data": {
            "image/png": "[encoded data removed]",
            "text/plain": [
              "<Figure size 1152x576 with 1 Axes>"
            ]
          },
          "metadata": {
            "tags": []
          }
        }
      ]
    },
    {
      "cell_type": "code",
      "metadata": {
        "id": "dz65NvUjIcKy",
        "colab_type": "code",
        "colab": {
          "base_uri": "https://localhost:8080/",
          "height": 34
        },
        "outputId": "4234213d-318b-433d-83ab-043c52473567"
      },
      "source": [
        "get_lowest_bpc(val_losses)"
      ],
      "execution_count": 49,
      "outputs": [
        {
          "output_type": "execute_result",
          "data": {
            "text/plain": [
              "1.353995605600761"
            ]
          },
          "metadata": {
            "tags": []
          },
          "execution_count": 49
        }
      ]
    }
  ]
}