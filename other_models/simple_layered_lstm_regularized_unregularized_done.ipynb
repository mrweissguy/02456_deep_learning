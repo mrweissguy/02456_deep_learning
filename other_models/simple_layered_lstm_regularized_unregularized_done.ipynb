{
  "nbformat": 4,
  "nbformat_minor": 0,
  "metadata": {
    "colab": {
      "name": "Simple_layered_lstm regularized/unregularized.ipynb",
      "provenance": [],
      "collapsed_sections": []
    },
    "kernelspec": {
      "name": "python3",
      "display_name": "Python 3"
    },
    "accelerator": "GPU"
  },
  "cells": [
    {
      "cell_type": "markdown",
      "metadata": {
        "id": "GY76LhP6vGIE",
        "colab_type": "text"
      },
      "source": [
        "# 3 layered LSTM regularized/unregularized\n",
        "# Natural language processing model on PennTreeBank dataset\n",
        "\n",
        "This notebook contains and tests two 3 layered LSTM models; one regularized and one unregularized. \n",
        "\n",
        "## Experiment\n",
        "The goal of this notebook is to test and benchmark two 3 layered LSTM models and is part of a larger goal to generate proteins by using a [Conditional Transformer Language model](https://einstein.ai/presentations/ctrl.pdf).\n",
        "\n",
        "The model giving the best results can be found here (insert link).\n",
        "\n",
        "The model accuracy is evaluated in bits per character (BPC), which is a  metric  used  to  describes  theaverage number of bits needed to encode on a character. Accuracy of character-level language models are typically reported in BPC.\n",
        "\n",
        "\n",
        "## Pretrained weights for the model\n",
        "Pretrained weights for the model can be found in the [here](https://drive.google.com/open?id=19vBZTCBuMbjjYgclTQPA_jlOcTKXK0e5). The save weight for the model is:\n",
        "* pretrained_char_model_layed_lstm_with_dropout.pkl\n",
        "  * with dropout and weight decay\n",
        "* pretrained_char_model_layed_lstm_unregularized_100.pkl\n",
        "\n",
        "\n",
        "## Referances\n",
        "* Pytorch for Deep Learning with Python Bootcamp, with Jose Portilla - udemy.com\n",
        "* Deel Learning 02456 week 5 exercises: 5.1-EXE-Recurrent-Neural-Networks.ipynb\n",
        "* TorchText: https://mlexplained.com/2018/02/08/a-comprehensive-tutorial-to-torchtext/\n",
        "* paper on DPR regularization: https://arxiv.org/pdf/1808.05908v4.pdf\n",
        "* tutorial in RNN: https://colab.research.google.com/drive/1jR_DGoVDcxZ104onxTk2C7YeV7vTt1DV#scrollTo=xPVERl79rCYW\n",
        "* papers with code: https://paperswithcode.com/paper/improved-language-modeling-by-decoding-the\n",
        "* trellisnet github: https://github.com/locuslab/trellisnet/tree/master/TrellisNet/char_PTB\n",
        "* Language modeling tutorial in torch: https://mlexplained.com/2018/02/15/language-modeling-tutorial-in-torchtext-practical-torchtext-part-2/\n",
        "* On saving/loading models: https://pytorch.org/tutorials/beginner/saving_loading_models.html\n",
        "* awd-lstm github: https://github.com/salesforce/awd-lstm-lm\n",
        "* RNN training tips: https://towardsdatascience.com/rnn-training-tips-and-tricks-2bf687e67527\n",
        "\n",
        "\n",
        "## Tips\n",
        "When running the notebook in colab, insert following javascript code into the console to precent colab from disconnecting after 30min, due to inactivity.\n",
        "\n",
        "> `function ClickConnect(){\n",
        " console.log(\"Working\"); \n",
        " document.querySelector(\"colab-toolbar-button#connect\").click() \n",
        " }\n",
        " setInterval(ClickConnect,60000)`\n",
        "\n",
        "\n",
        "\n",
        "\n"
      ]
    },
    {
      "cell_type": "markdown",
      "metadata": {
        "id": "icj3YVaW2gG9",
        "colab_type": "text"
      },
      "source": [
        "## Importing needed libraries"
      ]
    },
    {
      "cell_type": "code",
      "metadata": {
        "id": "upCMRGg_Hd97",
        "colab_type": "code",
        "colab": {}
      },
      "source": [
        "import torch\n",
        "from torch import nn\n",
        "import torch.nn.functional as F\n",
        "import numpy as np\n",
        "import os\n",
        "import torch"
      ],
      "execution_count": 0,
      "outputs": []
    },
    {
      "cell_type": "markdown",
      "metadata": {
        "id": "515WP8hd2jAj",
        "colab_type": "text"
      },
      "source": [
        "## Check GPU availabiliy"
      ]
    },
    {
      "cell_type": "code",
      "metadata": {
        "id": "Wnh9sJBiHjpo",
        "colab_type": "code",
        "outputId": "96a3c564-b124-42eb-c653-5ecb2bd4bc98",
        "colab": {
          "base_uri": "https://localhost:8080/",
          "height": 364
        }
      },
      "source": [
        "print(torch.cuda.device_count()) # how many devices available\n",
        "print(torch.cuda.get_device_name(torch.cuda.current_device())) # which device currently in use\n",
        "print(torch.cuda.get_device_capability()) # get the cuda compute capability\n",
        "print(torch.cuda.get_device_properties(torch.cuda.current_device()))\n",
        "!nvidia-smi"
      ],
      "execution_count": 74,
      "outputs": [
        {
          "output_type": "stream",
          "text": [
            "1\n",
            "Tesla P100-PCIE-16GB\n",
            "(6, 0)\n",
            "_CudaDeviceProperties(name='Tesla P100-PCIE-16GB', major=6, minor=0, total_memory=16280MB, multi_processor_count=56)\n",
            "Fri Jan  3 21:25:38 2020       \n",
            "+-----------------------------------------------------------------------------+\n",
            "| NVIDIA-SMI 440.44       Driver Version: 418.67       CUDA Version: 10.1     |\n",
            "|-------------------------------+----------------------+----------------------+\n",
            "| GPU  Name        Persistence-M| Bus-Id        Disp.A | Volatile Uncorr. ECC |\n",
            "| Fan  Temp  Perf  Pwr:Usage/Cap|         Memory-Usage | GPU-Util  Compute M. |\n",
            "|===============================+======================+======================|\n",
            "|   0  Tesla P100-PCIE...  Off  | 00000000:00:04.0 Off |                    0 |\n",
            "| N/A   47C    P0    33W / 250W |   4567MiB / 16280MiB |      0%      Default |\n",
            "+-------------------------------+----------------------+----------------------+\n",
            "                                                                               \n",
            "+-----------------------------------------------------------------------------+\n",
            "| Processes:                                                       GPU Memory |\n",
            "|  GPU       PID   Type   Process name                             Usage      |\n",
            "|=============================================================================|\n",
            "+-----------------------------------------------------------------------------+\n"
          ],
          "name": "stdout"
        }
      ]
    },
    {
      "cell_type": "markdown",
      "metadata": {
        "id": "iiGA5ooJeNtU",
        "colab_type": "text"
      },
      "source": [
        "# Access to Google drive"
      ]
    },
    {
      "cell_type": "code",
      "metadata": {
        "id": "LVTKYqvrzPwx",
        "colab_type": "code",
        "colab": {}
      },
      "source": [
        "# setting up for google drive\n",
        "from google.colab import drive"
      ],
      "execution_count": 0,
      "outputs": []
    },
    {
      "cell_type": "code",
      "metadata": {
        "id": "ap2UlPDWzP9M",
        "colab_type": "code",
        "outputId": "e8b60711-5c30-460c-84ab-cb885fe31a96",
        "colab": {
          "base_uri": "https://localhost:8080/",
          "height": 34
        }
      },
      "source": [
        "drive.mount('/content/drive/')"
      ],
      "execution_count": 76,
      "outputs": [
        {
          "output_type": "stream",
          "text": [
            "Drive already mounted at /content/drive/; to attempt to forcibly remount, call drive.mount(\"/content/drive/\", force_remount=True).\n"
          ],
          "name": "stdout"
        }
      ]
    },
    {
      "cell_type": "markdown",
      "metadata": {
        "id": "F_Tc8e1qYscj",
        "colab_type": "text"
      },
      "source": [
        "# Defining global hyperparameters"
      ]
    },
    {
      "cell_type": "code",
      "metadata": {
        "id": "M934mH6wX3Jt",
        "colab_type": "code",
        "colab": {}
      },
      "source": [
        "BATCH_SIZE = 128\n",
        "SEQ_LEN = 150\n",
        "EPOCHS = 500\n",
        "USE_GPU = True\n",
        "CHARACTER_LEVEL = True"
      ],
      "execution_count": 0,
      "outputs": []
    },
    {
      "cell_type": "markdown",
      "metadata": {
        "id": "3tGaN1G8dWth",
        "colab_type": "text"
      },
      "source": [
        "# Prepare data and generaing batches of words/characters"
      ]
    },
    {
      "cell_type": "code",
      "metadata": {
        "id": "t_j88ilVYlsv",
        "colab_type": "code",
        "colab": {}
      },
      "source": [
        "import spacy\n",
        "from spacy.symbols import ORTH\n",
        "my_tok = spacy.load('en')\n",
        "my_tok.tokenizer.add_special_case('<eos>', [{ORTH: '<eos>'}])\n",
        "my_tok.tokenizer.add_special_case('<bos>', [{ORTH: '<bos>'}])\n",
        "my_tok.tokenizer.add_special_case('<unk>', [{ORTH: '<unk>'}])\n",
        "def spacy_tok(x):\n",
        "    return [tok.text for tok in my_tok.tokenizer(x)]"
      ],
      "execution_count": 0,
      "outputs": []
    },
    {
      "cell_type": "code",
      "metadata": {
        "id": "peGEZmIuYmt-",
        "colab_type": "code",
        "colab": {}
      },
      "source": [
        "from torchtext import data\n",
        "TEXT = data.Field(lower=True, tokenize=spacy_tok)\n",
        "LABEL = data.Field(sequential=False, use_vocab=False)"
      ],
      "execution_count": 0,
      "outputs": []
    },
    {
      "cell_type": "code",
      "metadata": {
        "id": "z4xJD7G3zBbd",
        "colab_type": "code",
        "outputId": "9cef6ad7-3374-4f75-e517-d8209709c12b",
        "colab": {
          "base_uri": "https://localhost:8080/",
          "height": 89
        }
      },
      "source": [
        "from torch.utils.data import Dataset, DataLoader\n",
        "import torchvision\n",
        "from torchtext.datasets import LanguageModelingDataset\n",
        "from torchtext.datasets import PennTreebank\n",
        "\n",
        "if CHARACTER_LEVEL:\n",
        "\n",
        "  trn_data, vld_data, tst_data = LanguageModelingDataset.splits(path=\"/content/drive/My Drive/Colab Notebooks/ptb/\", text_field=TEXT,\n",
        "      train='ptb.char.train.txt', validation=\"ptb.char.valid.txt\", test='ptb.char.test.txt', encoding='utf-8')\n",
        "else:\n",
        "  trn_data, vld_data, tst_data = LanguageModelingDataset.splits(path=\"/content/drive/My Drive/Colab Notebooks/ptb/\", text_field=TEXT,\n",
        "      train='ptb.train.txt', validation=\"ptb.valid.txt\", test='ptb.test.txt', encoding='utf-8', )\n",
        "  \n",
        "train_iter, valid_iter, test_iter = data.BPTTIterator.splits(\n",
        "                                        (trn_data,vld_data,tst_data),\n",
        "                                        batch_size=BATCH_SIZE,\n",
        "                                        bptt_len=SEQ_LEN, # this is where we specify the sequence length\n",
        "                                        device=(0 if USE_GPU else -1),\n",
        "                                        repeat=False)\n"
      ],
      "execution_count": 80,
      "outputs": [
        {
          "output_type": "stream",
          "text": [
            "The `device` argument should be set by using `torch.device` or passing a string as an argument. This behavior will be deprecated soon and currently defaults to cpu.\n",
            "The `device` argument should be set by using `torch.device` or passing a string as an argument. This behavior will be deprecated soon and currently defaults to cpu.\n",
            "The `device` argument should be set by using `torch.device` or passing a string as an argument. This behavior will be deprecated soon and currently defaults to cpu.\n"
          ],
          "name": "stderr"
        }
      ]
    },
    {
      "cell_type": "markdown",
      "metadata": {
        "id": "rudSE0h14SBy",
        "colab_type": "text"
      },
      "source": [
        "## Building the vocabulary\n",
        "In case of the error: 'BadZipFile: File is not a zip file', when building the vocabulary, try the following.\n",
        "\n",
        "> `!rm -r .vector_cach`"
      ]
    },
    {
      "cell_type": "code",
      "metadata": {
        "id": "har_7-TYZHiy",
        "colab_type": "code",
        "colab": {}
      },
      "source": [
        "TEXT.build_vocab(trn_data, vectors=\"glove.6B.200d\")"
      ],
      "execution_count": 0,
      "outputs": []
    },
    {
      "cell_type": "markdown",
      "metadata": {
        "id": "l9nIxax1IOhC",
        "colab_type": "text"
      },
      "source": [
        "# LSTM language model"
      ]
    },
    {
      "cell_type": "code",
      "metadata": {
        "id": "kpw3z0ZEILJq",
        "colab_type": "code",
        "colab": {}
      },
      "source": [
        "from torch.autograd import Variable as V\n",
        "class CharModel(nn.Module):\n",
        "  \n",
        "  def __init__(self, all_chars,\n",
        "               ninp, \n",
        "               num_hidden=256, \n",
        "               num_layers=4,\n",
        "               weight_drop=0.5,\n",
        "               batch_size=200,\n",
        "               tie_weights=False, \n",
        "               use_gpu=False,\n",
        "               use_dropout=False):\n",
        "      \n",
        "      \n",
        "    # SET UP ATTRIBUTES\n",
        "    super().__init__()\n",
        "\n",
        "\n",
        "    self.weight_drop = weight_drop\n",
        "    self.num_layers = num_layers\n",
        "    self.num_hidden = num_hidden\n",
        "    self.use_gpu = use_gpu\n",
        "    self.ninp = ninp #embedding dimension \n",
        "\n",
        "    self.batch_size = batch_size\n",
        "\n",
        "    self.use_dropout = use_dropout\n",
        "\n",
        "    self.all_chars = all_chars\n",
        "\n",
        "\n",
        "    self.embedding = nn.Embedding(self.all_chars, self.ninp)\n",
        "\n",
        "    if use_dropout:\n",
        "      self.dropout = nn.Dropout(weight_drop)\n",
        "    \n",
        "    # self.lstm = nn.LSTM(self.ninp, num_hidden, num_layers, dropout=weight_drop)\n",
        "    self.lstm = nn.LSTM(self.ninp, num_hidden, num_layers)\n",
        "    \n",
        "    self.fc_linear = nn.Linear(in_features = num_hidden, out_features = self.all_chars)\n",
        "\n",
        "    self.init_weights()\n",
        "\n",
        "  def init_weights(self):\n",
        "    initrange = 0.1\n",
        "    self.embedding.weight.data.uniform_(-initrange, initrange)\n",
        "    self.fc_linear.bias.data.fill_(0)\n",
        "    self.fc_linear.weight.data.uniform_(-initrange, initrange)\n",
        "\n",
        "  def load_weights(self, model_name):\n",
        "    self.load_state_dict(torch.load(model_name), strict=False)\n",
        "   \n",
        "  def save_weights(self, state, name):\n",
        "    with open(name, 'wb') as f:\n",
        "      torch.save(state, f)\n",
        "      print(\"Saving model\")\n",
        "  \n",
        "  def forward(self, input, hidden, return_h=False):\n",
        "    \n",
        "    embeds = self.embedding(input)\n",
        "\n",
        "    lstm_output, hidden = self.lstm(embeds, hidden)\n",
        "\n",
        "    if self.use_dropout:\n",
        "      lstm_output = self.dropout(lstm_output)\n",
        "     \n",
        "    lstm_output = lstm_output.contiguous().view(-1, self.num_hidden)\n",
        "    \n",
        "    result = self.fc_linear(lstm_output)\n",
        "    \n",
        "    return result, hidden\n",
        "\n",
        "\n",
        "  def init_hidden(self, batch_size):\n",
        "\n",
        "    if self.use_gpu:\n",
        "        \n",
        "        hidden = (torch.zeros(self.num_layers,batch_size,self.num_hidden).cuda(),\n",
        "                  torch.zeros(self.num_layers,batch_size,self.num_hidden).cuda())\n",
        "    else:\n",
        "        hidden = (torch.zeros(self.num_layers,batch_size,self.num_hidden),\n",
        "                  torch.zeros(self.num_layers,batch_size,self.num_hidden))\n",
        "    \n",
        "    return hidden\n",
        "      "
      ],
      "execution_count": 0,
      "outputs": []
    },
    {
      "cell_type": "code",
      "metadata": {
        "id": "Rnu6I8m5sn5K",
        "colab_type": "code",
        "outputId": "85233db5-fe66-4b83-f5b1-96e2a0fd82e3",
        "colab": {
          "base_uri": "https://localhost:8080/",
          "height": 34
        }
      },
      "source": [
        "weight_matrix = TEXT.vocab.vectors\n",
        "print(weight_matrix.shape)"
      ],
      "execution_count": 36,
      "outputs": [
        {
          "output_type": "stream",
          "text": [
            "torch.Size([52, 200])\n"
          ],
          "name": "stdout"
        }
      ]
    },
    {
      "cell_type": "markdown",
      "metadata": {
        "id": "Y-vJFw--5nLq",
        "colab_type": "text"
      },
      "source": [
        "# Instantiating the model"
      ]
    },
    {
      "cell_type": "code",
      "metadata": {
        "id": "vQhV641OshYG",
        "colab_type": "code",
        "outputId": "e1032250-ded0-4f36-d727-5bc4e30b8657",
        "colab": {
          "base_uri": "https://localhost:8080/",
          "height": 121
        }
      },
      "source": [
        "model = CharModel(\n",
        "    all_chars=weight_matrix.size(0),\n",
        "    ninp = weight_matrix.size(1),\n",
        "    num_hidden=1000,\n",
        "    num_layers=3,\n",
        "    weight_drop=0.5,\n",
        "    batch_size = BATCH_SIZE,\n",
        "    use_gpu=True,\n",
        "    use_dropout = True,\n",
        ")\n",
        "print(model)"
      ],
      "execution_count": 83,
      "outputs": [
        {
          "output_type": "stream",
          "text": [
            "CharModel(\n",
            "  (embedding): Embedding(52, 200)\n",
            "  (dropout): Dropout(p=0.5, inplace=False)\n",
            "  (lstm): LSTM(200, 1000, num_layers=3)\n",
            "  (fc_linear): Linear(in_features=1000, out_features=52, bias=True)\n",
            ")\n"
          ],
          "name": "stdout"
        }
      ]
    },
    {
      "cell_type": "markdown",
      "metadata": {
        "id": "QU6o4WRy5waL",
        "colab_type": "text"
      },
      "source": [
        "## Counting model parameters"
      ]
    },
    {
      "cell_type": "code",
      "metadata": {
        "id": "tipmIc6nI6vp",
        "colab_type": "code",
        "outputId": "791a256f-9500-4dd5-a74e-3e71f0780227",
        "colab": {
          "base_uri": "https://localhost:8080/",
          "height": 34
        }
      },
      "source": [
        "def number_of_paramters(model):\n",
        "    total_param  = []\n",
        "    for p in model.parameters():\n",
        "        total_param.append(int(p.numel()))\n",
        "    return('Nr of parameters: ', sum(total_param))\n",
        "\n",
        "number_of_paramters(model)"
      ],
      "execution_count": 84,
      "outputs": [
        {
          "output_type": "execute_result",
          "data": {
            "text/plain": [
              "('Nr of parameters: ', 20886452)"
            ]
          },
          "metadata": {
            "tags": []
          },
          "execution_count": 84
        }
      ]
    },
    {
      "cell_type": "markdown",
      "metadata": {
        "id": "EPep8busJeZ2",
        "colab_type": "text"
      },
      "source": [
        "## Defining loss and optimizer"
      ]
    },
    {
      "cell_type": "code",
      "metadata": {
        "id": "GKpuvsMXIfj3",
        "colab_type": "code",
        "colab": {}
      },
      "source": [
        "optimizer = torch.optim.Adam(model.parameters(), lr= 0.002) #, weight_decay = 1.2e-6\n",
        "criterion = nn.CrossEntropyLoss()"
      ],
      "execution_count": 0,
      "outputs": []
    },
    {
      "cell_type": "markdown",
      "metadata": {
        "id": "YKYCpzECJhnx",
        "colab_type": "text"
      },
      "source": [
        "## Training the network"
      ]
    },
    {
      "cell_type": "code",
      "metadata": {
        "id": "knPcYtGU97rw",
        "colab_type": "code",
        "colab": {}
      },
      "source": [
        "# from https://github.com/salesforce/awd-lstm-lm/blob/32fcb42562aeb5c7e6c9dec3f2a3baaaf68a5cb5/utils.py#L4\n",
        "def repackage_hidden(h):\n",
        "    \"\"\"Wraps hidden states in new Tensors,\n",
        "    to detach them from their history.\"\"\"\n",
        "    if isinstance(h, torch.Tensor):\n",
        "        return h.detach()\n",
        "    else:\n",
        "        return tuple(repackage_hidden(v) for v in h)\n"
      ],
      "execution_count": 0,
      "outputs": []
    },
    {
      "cell_type": "code",
      "metadata": {
        "id": "qUJWkLBqQExe",
        "colab_type": "code",
        "colab": {}
      },
      "source": [
        "# Aleksander notebook\n",
        "def time_since(t):\n",
        "    now = time.time()\n",
        "    s = now - t\n",
        "    m = np.floor(s / 60)\n",
        "    s -= m * 60\n",
        "    return '%dm %ds' % (m, s)"
      ],
      "execution_count": 0,
      "outputs": []
    },
    {
      "cell_type": "code",
      "metadata": {
        "id": "dFc3Q74lv0oD",
        "colab_type": "code",
        "colab": {}
      },
      "source": [
        "def load_checkpoint(model, optimizer, filename):\n",
        "    # Note: Input model & optimizer should be pre-defined.  This routine only updates their states.\n",
        "    start_epoch = 0\n",
        "    if os.path.isfile(filename):\n",
        "        print(\"=> loading checkpoint '{}'\".format(filename))\n",
        "        checkpoint = torch.load(filename)\n",
        "        start_epoch = checkpoint['epoch']\n",
        "        model.load_state_dict(checkpoint['state_dict'], strict=False)\n",
        "        optimizer.load_state_dict(checkpoint['optimizer'])\n",
        "        val_losses = checkpoint['val_losses']\n",
        "        train_losses = checkpoint['train_losses']\n",
        "        print(\"=> loaded checkpoint '{}' (epoch {})\"\n",
        "                  .format(filename, checkpoint['epoch']))\n",
        "    else:\n",
        "        print(\"=> no checkpoint found at '{}'\".format(filename))\n",
        "\n",
        "    return model, optimizer, start_epoch, val_losses, train_losses"
      ],
      "execution_count": 0,
      "outputs": []
    },
    {
      "cell_type": "code",
      "metadata": {
        "id": "Y_Wd5ZabJjQc",
        "colab_type": "code",
        "colab": {}
      },
      "source": [
        "# setting up variables\n",
        "epochs = EPOCHS\n",
        "batch_size = BATCH_SIZE\n",
        "seq_len = SEQ_LEN # nr of characters\n",
        "vocab_size= len(TEXT.vocab)"
      ],
      "execution_count": 0,
      "outputs": []
    },
    {
      "cell_type": "code",
      "metadata": {
        "id": "jJbqKDqZJoNj",
        "colab_type": "code",
        "outputId": "066f7975-bbe6-4c11-9ccd-e2fe921c387b",
        "colab": {
          "base_uri": "https://localhost:8080/",
          "height": 342
        }
      },
      "source": [
        "import time\n",
        "import matplotlib.pyplot as plt\n",
        "import warnings\n",
        "# on the warning that we are getting see: https://github.com/salesforce/awd-lstm-lm/issues/7 \n",
        "warnings.filterwarnings(action='once')\n",
        "\n",
        "start_time = time.time()\n",
        "\n",
        "best_val_loss = None\n",
        "\n",
        "start_epoch = 0\n",
        "# tracking loss\n",
        "training_loss, validation_loss = [], []\n",
        "\n",
        "# best_model = \"/content/drive/My Drive/Colab Notebooks/nets/pretrained_char_model_layed_lstm_with_dropout_100.pkl\"\n",
        "best_model = \"/content/drive/My Drive/Colab Notebooks/nets/pretrained_char_model_layed_lstm_regularized_100.pkl\"\n",
        "\n",
        "model.train()\n",
        "if model.use_gpu:\n",
        "    dvc = torch.cuda.current_device()\n",
        "    model.cuda()\n",
        "    print('Using GPU %s with compute capability %s' % (torch.cuda.get_device_name(dvc),torch.cuda.get_device_capability(dvc)))\n",
        "\n",
        "# check if we have previous 'best models' in our directory and continues traning on them..\n",
        "try:\n",
        "  model, optimizer, start_epoch, val_losses, train_losses = load_checkpoint(model=model, optimizer=optimizer, filename=best_model)\n",
        "  # best_val_loss = val_losses[-1]\n",
        "  training_loss = train_losses\n",
        "  validation_loss = val_losses\n",
        "  model.load_weights(best_model)\n",
        "  print('continue traning on best weights..')\n",
        "  print(f'loaded model has been trained for: {start_epoch} epochs.')\n",
        "except:\n",
        "  print('failed to load previous model')\n",
        "  \n",
        "# substracting the epochs that the model has already trained\n",
        "epochs = epochs - start_epoch\n",
        "\n",
        "# for each epoch\n",
        "for i in range(epochs):\n",
        "\n",
        "    i = i+start_epoch\n",
        "\n",
        "    # train_losses, val_losses = [], []\n",
        "    \n",
        "    # track loss\n",
        "    epoch_training_loss = 0\n",
        "    epoch_validation_loss = 0\n",
        "\n",
        "    val_hidden = model.init_hidden(batch_size)\n",
        "\n",
        "    model.eval()\n",
        "    \n",
        "    # for each sentence in validation set\n",
        "    # for x,y in generate_batches(encoded_test_data, batch_size, seq_len):\n",
        "    for x in test_iter:\n",
        "\n",
        "        # check for the last value as it might not be the full seq length -> which will give an error\n",
        "        if len(x.text)  == SEQ_LEN:\n",
        "\n",
        "            if model.use_gpu:\n",
        "                inputs = x.text.cuda()\n",
        "                targets = x.target.cuda()\n",
        "            else:\n",
        "                inputs = x.text\n",
        "                targets = x.target\n",
        "                \n",
        "            # val_hidden = tuple([state[0].data for state in val_hidden])\n",
        "            val_hidden = repackage_hidden(val_hidden)\n",
        "            \n",
        "            lstm_output, val_hidden = model.forward(inputs,val_hidden)\n",
        "\n",
        "            val_loss = criterion(lstm_output, targets.view(batch_size*seq_len).long())\n",
        "            # val_loss = criterion(lstm_output.view(-1,vocab_size), targets.view(-1))\n",
        "            # val_losses.append(val_loss.item())\n",
        "            epoch_validation_loss += val_loss.item()\n",
        "            \n",
        "            # validation_loss.append(val_loss.item())\n",
        "\n",
        "    model.train()\n",
        "    \n",
        "    hidden = model.init_hidden(batch_size)\n",
        "    \n",
        "    # for x,y in generate_batches(encoded_train_data, batch_size, seq_len):\n",
        "    for y in train_iter:\n",
        "    # for y in itertools.islice(train_iter, 500):\n",
        "\n",
        "        # check for the last value as it might not be the full seq length -> which will give an error\n",
        "        if len(y.text)  == SEQ_LEN:\n",
        "\n",
        "          if model.use_gpu:\n",
        "              inputs = y.text.cuda()\n",
        "              targets = y.target.cuda()\n",
        "          else:\n",
        "              inputs = y.text\n",
        "              targets = y.target\n",
        "            \n",
        "              \n",
        "          # Reset Hidden State\n",
        "          # If we dont' reset we would backpropagate through all training history\n",
        "          # hidden = tuple([state.data for state in hidden])\n",
        "          hidden = repackage_hidden(hidden)\n",
        "\n",
        "          model.zero_grad()\n",
        "          \n",
        "          lstm_output, hidden = model.forward(inputs,hidden)\n",
        "\n",
        "          loss = criterion(lstm_output, targets.view(batch_size*seq_len).long())\n",
        "          # loss = criterion(lstm_output.view(-1,vocab_size), targets.view(-1))\n",
        "          epoch_training_loss += loss.item()\n",
        "          \n",
        "          loss.backward()\n",
        "          \n",
        "          # POSSIBLE EXPLODING GRADIENT PROBLEM!\n",
        "          # LET\"S CLIP JUST IN CASE\n",
        "          nn.utils.clip_grad_norm_(model.parameters(),max_norm=5)\n",
        "          \n",
        "          optimizer.step()\n",
        "        \n",
        "    training_loss.append(epoch_training_loss/len(train_iter)-1)\n",
        "    validation_loss.append(epoch_validation_loss/len(test_iter)-1)\n",
        "\n",
        "    # Print loss every 5 epochs\n",
        "    if i % 1 == 0:\n",
        "        state = {'epoch': i + 1, 'state_dict': model.state_dict(), 'optimizer': optimizer.state_dict(), 'val_losses': validation_loss, 'train_losses': training_loss}\n",
        "        \n",
        "        model.save_weights(state, best_model)\n",
        "\n",
        "\n",
        "        if CHARACTER_LEVEL:\n",
        "          # showing bits per characters - relevant for character level examination\n",
        "          print(f'Time {time_since(start_time)}, Epoch {i+1}, training loss: {training_loss[-1]}, validation loss: {validation_loss[-1]}, bpc: {validation_loss[-1] / np.log(2)}')\n",
        "        else:\n",
        "          # showing perplexity - relevant for word level examination\n",
        "          print(f'Time {time_since(start_time)}, Epoch {i+1}, training loss: {training_loss[-1]}, validation loss: {validation_loss[-1]}, ppl: {np.exp(validation_loss[-1])}')\n",
        "        # math.exp(cur_loss), cur_loss / math.log(2)) \n",
        "        \n",
        "print(\"--- training time: %s seconds ---\" % (time_since(start_time)))\n",
        "\n",
        "print(\"Input sentence\")\n",
        "print(inputs)\n",
        "\n",
        "print(\"Target sentence\")\n",
        "print(targets)\n",
        "\n",
        "# Plot training and validation loss\n",
        "epoch = np.arange(len(training_loss))\n",
        "plt.figure()\n",
        "plt.plot(epoch, training_loss, 'r', label='Training loss',)\n",
        "plt.plot(epoch, validation_loss, 'b', label='Validation loss')\n",
        "plt.legend()\n",
        "plt.xlabel('Epoch'), plt.ylabel('NLL')\n",
        "plt.show()"
      ],
      "execution_count": 90,
      "outputs": [
        {
          "output_type": "stream",
          "text": [
            "Output removed.\n"
          ],
          "name": "stdout"
        }
      ]
    },
    {
      "cell_type": "markdown",
      "metadata": {
        "id": "eCQ39liU6eX2",
        "colab_type": "text"
      },
      "source": [
        "## Evaluate the training\n",
        "First import the saved model (if needed) and plot the training/validation loss from the tranining of the model.\n",
        "We plot the training/validation losses for both the regularized and unregularized models and calculated their respective BPC."
      ]
    },
    {
      "cell_type": "markdown",
      "metadata": {
        "id": "imzHzDD2BQ6G",
        "colab_type": "text"
      },
      "source": [
        "### Training for regularized model"
      ]
    },
    {
      "cell_type": "code",
      "metadata": {
        "id": "BuuZdT79kGzf",
        "colab_type": "code",
        "outputId": "606e07ea-0c6f-418b-acd2-e9e2f0c360bb",
        "colab": {
          "base_uri": "https://localhost:8080/",
          "height": 52
        }
      },
      "source": [
        "# load and print model\n",
        "import matplotlib.pyplot as plt\n",
        "best_model = \"/content/drive/My Drive/Colab Notebooks/nets/pretrained_char_model_layed_lstm_with_dropout.pkl\"\n",
        "model, optimizer, start_epoch, val_losses, train_losses = load_checkpoint(model=model, optimizer=optimizer, filename=best_model)"
      ],
      "execution_count": 91,
      "outputs": [
        {
          "output_type": "stream",
          "text": [
            "=> loading checkpoint '/content/drive/My Drive/Colab Notebooks/nets/pretrained_char_model_layed_lstm_with_dropout.pkl'\n",
            "=> loaded checkpoint '/content/drive/My Drive/Colab Notebooks/nets/pretrained_char_model_layed_lstm_with_dropout.pkl' (epoch 323)\n"
          ],
          "name": "stdout"
        }
      ]
    },
    {
      "cell_type": "code",
      "metadata": {
        "id": "ecspopGkLZez",
        "colab_type": "code",
        "outputId": "4b10f3a8-5594-4273-e723-7c81c33f80de",
        "colab": {
          "base_uri": "https://localhost:8080/",
          "height": 513
        }
      },
      "source": [
        "# Plot training and validation loss\n",
        "epoch = np.arange(len(val_losses))\n",
        "plt.figure(figsize=(16,8))\n",
        "plt.plot(epoch, train_losses, 'r', label='Training loss',)\n",
        "plt.plot(epoch, val_losses, 'b', label='Validation loss')\n",
        "plt.legend()\n",
        "plt.title(\"Training/validation loss during training of LSTM model with dropout\")\n",
        "plt.xlabel('Epoch'), plt.ylabel('NLL')\n",
        "\n",
        "plt.savefig('/content/drive/My Drive/Colab Notebooks/training_validation loss during training of LSTM model with dropout.png')\n",
        "plt.show()"
      ],
      "execution_count": 92,
      "outputs": [
        {
          "output_type": "display_data",
          "data": {
            "image/png": "[encoded data removed]",
            "text/plain": [
              "<Figure size 1152x576 with 1 Axes>"
            ]
          },
          "metadata": {
            "tags": []
          }
        }
      ]
    },
    {
      "cell_type": "markdown",
      "metadata": {
        "id": "B90f6dIq63hp",
        "colab_type": "text"
      },
      "source": [
        "Getting the lowest validation loss and calculating BPC."
      ]
    },
    {
      "cell_type": "code",
      "metadata": {
        "id": "CPKMRC9SC--F",
        "colab_type": "code",
        "outputId": "8889c1aa-9fcc-4737-ae39-0450507c9f4a",
        "colab": {
          "base_uri": "https://localhost:8080/",
          "height": 34
        }
      },
      "source": [
        "def get_lowest_bpc(val_losses):\n",
        "    return min(val_losses) / np.log(2)\n",
        "    \n",
        "get_lowest_bpc(val_losses)"
      ],
      "execution_count": 93,
      "outputs": [
        {
          "output_type": "execute_result",
          "data": {
            "text/plain": [
              "1.3255738237554855"
            ]
          },
          "metadata": {
            "tags": []
          },
          "execution_count": 93
        }
      ]
    },
    {
      "cell_type": "markdown",
      "metadata": {
        "id": "YUwPw7vRBdSr",
        "colab_type": "text"
      },
      "source": [
        "#### Training for unregularized model"
      ]
    },
    {
      "cell_type": "code",
      "metadata": {
        "id": "8G3HK_LVBtSx",
        "colab_type": "code",
        "colab": {
          "base_uri": "https://localhost:8080/",
          "height": 104
        },
        "outputId": "f2b6b676-a975-4f31-af4e-116dad7c886d"
      },
      "source": [
        "model = CharModel(\n",
        "    all_chars=weight_matrix.size(0),\n",
        "    ninp = weight_matrix.size(1),\n",
        "    num_hidden=1000,\n",
        "    num_layers=3,\n",
        "    weight_drop=0.5,\n",
        "    batch_size = BATCH_SIZE,\n",
        "    use_gpu=True,\n",
        "    use_dropout = False,\n",
        ")\n",
        "print(model)"
      ],
      "execution_count": 94,
      "outputs": [
        {
          "output_type": "stream",
          "text": [
            "CharModel(\n",
            "  (embedding): Embedding(52, 200)\n",
            "  (lstm): LSTM(200, 1000, num_layers=3)\n",
            "  (fc_linear): Linear(in_features=1000, out_features=52, bias=True)\n",
            ")\n"
          ],
          "name": "stdout"
        }
      ]
    },
    {
      "cell_type": "code",
      "metadata": {
        "id": "efQ4ZVqhBb-O",
        "colab_type": "code",
        "colab": {
          "base_uri": "https://localhost:8080/",
          "height": 72
        },
        "outputId": "06a08530-512c-4cd4-a6ab-c6aac4f2a036"
      },
      "source": [
        "# load and print model\n",
        "import matplotlib.pyplot as plt\n",
        "best_model = \"/content/drive/My Drive/Colab Notebooks/nets/pretrained_char_model_layed_lstm_unregularized_100.pkl\"\n",
        "model, optimizer, start_epoch, val_losses, train_losses = load_checkpoint(model=model, optimizer=optimizer, filename=best_model)"
      ],
      "execution_count": 95,
      "outputs": [
        {
          "output_type": "stream",
          "text": [
            "=> loading checkpoint '/content/drive/My Drive/Colab Notebooks/nets/pretrained_char_model_layed_lstm_unregularized_100.pkl'\n",
            "=> loaded checkpoint '/content/drive/My Drive/Colab Notebooks/nets/pretrained_char_model_layed_lstm_unregularized_100.pkl' (epoch 100)\n"
          ],
          "name": "stdout"
        }
      ]
    },
    {
      "cell_type": "code",
      "metadata": {
        "id": "muJ9sNu-_MKF",
        "colab_type": "code",
        "colab": {
          "base_uri": "https://localhost:8080/",
          "height": 513
        },
        "outputId": "16df539c-fe10-4d03-858f-15d2e0470f1c"
      },
      "source": [
        "# Plot training and validation loss\n",
        "epoch = np.arange(len(val_losses))\n",
        "plt.figure(figsize=(16,8))\n",
        "plt.plot(epoch, train_losses, 'r', label='Training loss',)\n",
        "plt.plot(epoch, val_losses, 'b', label='Validation loss')\n",
        "plt.legend()\n",
        "plt.title(\"Training/validation loss during training of unregularized LSTM model\")\n",
        "plt.xlabel('Epoch'), plt.ylabel('NLL')\n",
        "\n",
        "plt.savefig('/content/drive/My Drive/Colab Notebooks/training_validation loss during training of unregularized LSTM model.png')\n",
        "plt.show()"
      ],
      "execution_count": 96,
      "outputs": [
        {
          "output_type": "display_data",
          "data": {
            "image/png": "[encoded data removed]",
            "text/plain": [
              "<Figure size 1152x576 with 1 Axes>"
            ]
          },
          "metadata": {
            "tags": []
          }
        }
      ]
    },
    {
      "cell_type": "markdown",
      "metadata": {
        "id": "i2vxA5x3DwJ8",
        "colab_type": "text"
      },
      "source": [
        "Getting the lowest BPC."
      ]
    },
    {
      "cell_type": "code",
      "metadata": {
        "id": "VE_aCpVUCX84",
        "colab_type": "code",
        "colab": {
          "base_uri": "https://localhost:8080/",
          "height": 34
        },
        "outputId": "fce3bb91-9148-497d-cb53-2873338b7d9d"
      },
      "source": [
        "get_lowest_bpc(val_losses)"
      ],
      "execution_count": 97,
      "outputs": [
        {
          "output_type": "execute_result",
          "data": {
            "text/plain": [
              "1.4782328479326508"
            ]
          },
          "metadata": {
            "tags": []
          },
          "execution_count": 97
        }
      ]
    },
    {
      "cell_type": "code",
      "metadata": {
        "id": "WCEmWsJqTreV",
        "colab_type": "code",
        "colab": {}
      },
      "source": [
        ""
      ],
      "execution_count": 0,
      "outputs": []
    }
  ]
}