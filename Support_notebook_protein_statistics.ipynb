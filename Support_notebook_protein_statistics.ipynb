{
 "cells": [
  {
   "cell_type": "markdown",
   "metadata": {
    "colab_type": "text",
    "id": "rkvoZzKScFoT"
   },
   "source": [
    "# Support notebook to get statistics on the protein dataset"
   ]
  },
  {
   "cell_type": "code",
   "execution_count": 0,
   "metadata": {
    "colab": {},
    "colab_type": "code",
    "id": "TW_oM0igUe8N"
   },
   "outputs": [],
   "source": [
    "import string\n",
    "import glob\n",
    "\n",
    "import torch\n",
    "import torch.nn as nn\n",
    "from torch.autograd import Variable\n",
    "\n",
    "import random\n",
    "import time\n",
    "import math\n",
    "import numpy as np\n",
    "\n",
    "from matplotlib import pyplot as plt"
   ]
  },
  {
   "cell_type": "code",
   "execution_count": 2,
   "metadata": {
    "colab": {
     "base_uri": "https://localhost:8080/",
     "height": 85
    },
    "colab_type": "code",
    "id": "tmmyrMy7Tkmu",
    "outputId": "e7588448-2f14-4587-c14a-8583d310c370"
   },
   "outputs": [
    {
     "name": "stdout",
     "output_type": "stream",
     "text": [
      "Running GPU.\n",
      "Tesla K80\n",
      "(3, 7)\n",
      "_CudaDeviceProperties(name='Tesla K80', major=3, minor=7, total_memory=11441MB, multi_processor_count=13)\n"
     ]
    }
   ],
   "source": [
    "use_cuda = torch.cuda.is_available()\n",
    "print(\"Running GPU.\") if use_cuda else print(\"No GPU available.\")\n",
    "\n",
    "if use_cuda:\n",
    "  dvc = torch.cuda.current_device()\n",
    "  print(torch.cuda.get_device_name(dvc))\n",
    "  print(torch.cuda.get_device_capability(dvc))\n",
    "  print(torch.cuda.get_device_properties(dvc))"
   ]
  },
  {
   "cell_type": "markdown",
   "metadata": {
    "colab_type": "text",
    "id": "YMtN-gJ9gYGH"
   },
   "source": [
    "## Prep data"
   ]
  },
  {
   "cell_type": "code",
   "execution_count": 0,
   "metadata": {
    "colab": {},
    "colab_type": "code",
    "id": "baNlmTbjg5ia"
   },
   "outputs": [],
   "source": [
    "all_letters = string.ascii_uppercase\n",
    "n_letters = len(all_letters) + 1 # Plus EOS marker\n",
    "EOS = n_letters - 1 # get index of EOS symbol"
   ]
  },
  {
   "cell_type": "code",
   "execution_count": 14,
   "metadata": {
    "colab": {
     "base_uri": "https://localhost:8080/",
     "height": 34
    },
    "colab_type": "code",
    "id": "2L40oY8IhGEs",
    "outputId": "5f6e1a35-61d8-4383-e7de-bfabf9b6a04b"
   },
   "outputs": [
    {
     "data": {
      "text/plain": [
       "'ABCDEFGHIJKLMNOPQRSTUVWXYZ'"
      ]
     },
     "execution_count": 14,
     "metadata": {
      "tags": []
     },
     "output_type": "execute_result"
    }
   ],
   "source": [
    "all_letters"
   ]
  },
  {
   "cell_type": "code",
   "execution_count": 15,
   "metadata": {
    "colab": {
     "base_uri": "https://localhost:8080/",
     "height": 34
    },
    "colab_type": "code",
    "id": "OXoWdZaMhDP7",
    "outputId": "6ee73bae-dcdf-40a5-b553-992194042620"
   },
   "outputs": [
    {
     "data": {
      "text/plain": [
       "26"
      ]
     },
     "execution_count": 15,
     "metadata": {
      "tags": []
     },
     "output_type": "execute_result"
    }
   ],
   "source": [
    "EOS"
   ]
  },
  {
   "cell_type": "code",
   "execution_count": 0,
   "metadata": {
    "colab": {},
    "colab_type": "code",
    "id": "m6uBedvscLDf"
   },
   "outputs": [],
   "source": [
    "# read a file and split into lines\n",
    "def read_lines(filename):\n",
    "  lines = open(filename).read().strip().split('\\n')\n",
    "  lines = [line.replace(' ','') for line in lines] # remove space between the characters\n",
    "  return lines"
   ]
  },
  {
   "cell_type": "code",
   "execution_count": 17,
   "metadata": {
    "colab": {
     "base_uri": "https://localhost:8080/",
     "height": 34
    },
    "colab_type": "code",
    "id": "PoCyVziJctIx",
    "outputId": "418df3db-aa1f-44fe-ee56-06bf798a6a7e"
   },
   "outputs": [
    {
     "name": "stdout",
     "output_type": "stream",
     "text": [
      "1997\n"
     ]
    }
   ],
   "source": [
    "# test read of file\n",
    "test = read_lines('./protein-datasets/arc_full/train.txt')\n",
    "print(len(test))"
   ]
  },
  {
   "cell_type": "code",
   "execution_count": 18,
   "metadata": {
    "colab": {
     "base_uri": "https://localhost:8080/",
     "height": 34
    },
    "colab_type": "code",
    "id": "gYDahWn0dshM",
    "outputId": "04804e41-8c65-4d7e-ae48-c64bfaabda9e"
   },
   "outputs": [
    {
     "name": "stdout",
     "output_type": "stream",
     "text": [
      "found protein categories: ['arc', 'bac', 'vir']\n"
     ]
    }
   ],
   "source": [
    "# find the categories, i.e. protein groups\n",
    "all_categories = list()\n",
    "path = './protein-datasets/'\n",
    "\n",
    "for foldername in glob.glob(path + '*'):\n",
    "  categ = foldername.replace(path,'').replace('_full','')\n",
    "  #print(categ)\n",
    "  all_categories.append(categ)\n",
    "\n",
    "print('found protein categories: {}'.format(all_categories))"
   ]
  },
  {
   "cell_type": "code",
   "execution_count": 19,
   "metadata": {
    "colab": {
     "base_uri": "https://localhost:8080/",
     "height": 34
    },
    "colab_type": "code",
    "id": "VgTl-Lqaf9S5",
    "outputId": "5eade4ed-837c-4eff-bf33-6bf342335c99"
   },
   "outputs": [
    {
     "name": "stdout",
     "output_type": "stream",
     "text": [
      "Nr. of protein groups (categories) => 3\n"
     ]
    }
   ],
   "source": [
    "n_categories = len(all_categories)\n",
    "print('Nr. of protein groups (categories) =>', n_categories)"
   ]
  },
  {
   "cell_type": "code",
   "execution_count": 0,
   "metadata": {
    "colab": {},
    "colab_type": "code",
    "id": "H61cSQWKcyV4"
   },
   "outputs": [],
   "source": [
    "# build the category_lines dict, a list of lines per category\n",
    "category_lines = dict()\n",
    "\n",
    "for categ in all_categories:\n",
    "  for file in glob.glob(path + categ + '_full/train.txt'):\n",
    "    lines = read_lines(file)\n",
    "    category_lines[categ] = lines"
   ]
  },
  {
   "cell_type": "code",
   "execution_count": 21,
   "metadata": {
    "colab": {
     "base_uri": "https://localhost:8080/",
     "height": 34
    },
    "colab_type": "code",
    "id": "AsDhKcx2gJFu",
    "outputId": "36111467-e0cd-4916-d97a-0b0f64d50d25"
   },
   "outputs": [
    {
     "data": {
      "text/plain": [
       "1997"
      ]
     },
     "execution_count": 21,
     "metadata": {
      "tags": []
     },
     "output_type": "execute_result"
    }
   ],
   "source": [
    "len(category_lines['arc'])"
   ]
  },
  {
   "cell_type": "code",
   "execution_count": 22,
   "metadata": {
    "colab": {
     "base_uri": "https://localhost:8080/",
     "height": 102
    },
    "colab_type": "code",
    "id": "1ZgRnBvk5P0M",
    "outputId": "4c11c10c-ae16-494f-8809-692942dde60d"
   },
   "outputs": [
    {
     "name": "stdout",
     "output_type": "stream",
     "text": [
      "total seq length: 46585269\n",
      "total number of sequences: 103382\n",
      "avg sequence lenght: 450.61295970284965\n",
      "max sequence length: 16990\n",
      "min sequence length: 7\n"
     ]
    }
   ],
   "source": [
    "# average, max and min length of protein sequence overall\n",
    "total_seq_len = 0\n",
    "max_seq_len = 0\n",
    "min_seq_len = 99999\n",
    "total_seq = 0\n",
    "\n",
    "for categ in all_categories:\n",
    "  for file in glob.glob(path + categ + '_full/train.txt'):\n",
    "    lines = read_lines(file)\n",
    "    total_seq = total_seq + len(lines)\n",
    "    for line in lines:\n",
    "      total_seq_len = total_seq_len + len(line)\n",
    "      if len(line) > max_seq_len:\n",
    "        max_seq_len = len(line)\n",
    "      elif len(line) < min_seq_len:\n",
    "        min_seq_len = len(line)\n",
    "  for file in glob.glob(path + categ + '_full/valid.txt'):\n",
    "    lines = read_lines(file)\n",
    "    total_seq = total_seq + len(lines)\n",
    "    for line in lines:\n",
    "      total_seq_len = total_seq_len + len(line)\n",
    "      if len(line) > max_seq_len:\n",
    "        max_seq_len = len(line)\n",
    "      elif len(line) < min_seq_len:\n",
    "        min_seq_len = len(line)\n",
    "  for file in glob.glob(path + categ + '_full/test.txt'):\n",
    "    lines = read_lines(file)\n",
    "    total_seq = total_seq + len(lines)\n",
    "    for line in lines:\n",
    "      total_seq_len = total_seq_len + len(line)\n",
    "      if len(line) > max_seq_len:\n",
    "        max_seq_len = len(line)\n",
    "      elif len(line) < min_seq_len:\n",
    "        min_seq_len = len(line)\n",
    "\n",
    "print(\"total seq length:\", total_seq_len)\n",
    "print(\"total number of sequences:\", total_seq)\n",
    "print(\"avg sequence lenght:\", total_seq_len / total_seq)\n",
    "print(\"max sequence length:\", max_seq_len)\n",
    "print(\"min sequence length:\", min_seq_len)"
   ]
  },
  {
   "cell_type": "code",
   "execution_count": 23,
   "metadata": {
    "colab": {
     "base_uri": "https://localhost:8080/",
     "height": 119
    },
    "colab_type": "code",
    "id": "nHsU2Zm55WA1",
    "outputId": "00064161-ae1a-4d58-e36a-fb4c32e9edd3"
   },
   "outputs": [
    {
     "name": "stdout",
     "output_type": "stream",
     "text": [
      "-- bacteria --\n",
      "total seq length: 34113615\n",
      "total number of sequences: 69785\n",
      "avg sequence lenght: 488.8387905710396\n",
      "max sequence length: 16990\n",
      "min sequence length: 7\n"
     ]
    }
   ],
   "source": [
    "# average, min and max length of protein sequence in each domain - bacteria\n",
    "bac_total_seq_len = 0\n",
    "bac_max_seq_len = 0\n",
    "bac_min_seq_len = 99999\n",
    "bac_total_seq = 0\n",
    "bac_l = []\n",
    "\n",
    "# bac\n",
    "lines = read_lines(glob.glob(path + 'bac' + '_full/train.txt')[0])\n",
    "bac_total_seq = bac_total_seq + len(lines)\n",
    "for line in lines:\n",
    "  bac_l.append(len(line))\n",
    "  bac_total_seq_len = bac_total_seq_len + len(line)\n",
    "  if len(line) > bac_max_seq_len:\n",
    "    bac_max_seq_len = len(line)\n",
    "  elif len(line) < bac_min_seq_len:\n",
    "    bac_min_seq_len = len(line)\n",
    "lines = read_lines(glob.glob(path + 'bac' + '_full/valid.txt')[0])\n",
    "bac_total_seq = bac_total_seq + len(lines)\n",
    "for line in lines:\n",
    "  bac_l.append(len(line))\n",
    "  bac_total_seq_len = bac_total_seq_len + len(line)\n",
    "  if len(line) > bac_max_seq_len:\n",
    "    bac_max_seq_len = len(line)\n",
    "  elif len(line) < bac_min_seq_len:\n",
    "    bac_min_seq_len = len(line)\n",
    "lines = read_lines(glob.glob(path + 'bac' + '_full/test.txt')[0])\n",
    "bac_total_seq = bac_total_seq + len(lines)\n",
    "for line in lines:\n",
    "  bac_l.append(len(line))\n",
    "  bac_total_seq_len = bac_total_seq_len + len(line)\n",
    "  if len(line) > bac_max_seq_len:\n",
    "    bac_max_seq_len = len(line)\n",
    "  elif len(line) < bac_min_seq_len:\n",
    "    bac_min_seq_len = len(line)\n",
    "\n",
    "print('-- bacteria --')\n",
    "print(\"total seq length:\", bac_total_seq_len)\n",
    "print(\"total number of sequences:\", bac_total_seq)\n",
    "print(\"avg sequence lenght:\", bac_total_seq_len / bac_total_seq)\n",
    "print(\"max sequence length:\", bac_max_seq_len)\n",
    "print(\"min sequence length:\", bac_min_seq_len)"
   ]
  },
  {
   "cell_type": "code",
   "execution_count": 24,
   "metadata": {
    "colab": {
     "base_uri": "https://localhost:8080/",
     "height": 119
    },
    "colab_type": "code",
    "id": "58byn5nhRz9T",
    "outputId": "bd4a627f-d1c1-4048-8842-72592525935e"
   },
   "outputs": [
    {
     "name": "stdout",
     "output_type": "stream",
     "text": [
      "-- vira --\n",
      "total seq length: 11387848\n",
      "total number of sequences: 30283\n",
      "avg sequence lenght: 376.04755143149623\n",
      "max sequence length: 7180\n",
      "min sequence length: 14\n"
     ]
    }
   ],
   "source": [
    "# average, min and max length of protein sequence in each domain - vira\n",
    "vir_total_seq_len = 0\n",
    "vir_max_seq_len = 0\n",
    "vir_min_seq_len = 99999\n",
    "vir_total_seq = 0\n",
    "vir_l = []\n",
    "\n",
    "# vir\n",
    "lines = read_lines(glob.glob(path + 'vir' + '_full/train.txt')[0])\n",
    "vir_total_seq = vir_total_seq + len(lines)\n",
    "for line in lines:\n",
    "  vir_l.append(len(line))\n",
    "  vir_total_seq_len = vir_total_seq_len + len(line)\n",
    "  if len(line) > vir_max_seq_len:\n",
    "    vir_max_seq_len = len(line)\n",
    "  elif len(line) < vir_min_seq_len:\n",
    "    vir_min_seq_len = len(line)\n",
    "lines = read_lines(glob.glob(path + 'vir' + '_full/valid.txt')[0])\n",
    "vir_total_seq = vir_total_seq + len(lines)\n",
    "for line in lines:\n",
    "  vir_l.append(len(line))\n",
    "  vir_total_seq_len = vir_total_seq_len + len(line)\n",
    "  if len(line) > vir_max_seq_len:\n",
    "    vir_max_seq_len = len(line)\n",
    "  elif len(line) < vir_min_seq_len:\n",
    "    vir_min_seq_len = len(line)\n",
    "lines = read_lines(glob.glob(path + 'vir' + '_full/test.txt')[0])\n",
    "vir_total_seq = vir_total_seq + len(lines)\n",
    "for line in lines:\n",
    "  vir_l.append(len(line))\n",
    "  vir_total_seq_len = vir_total_seq_len + len(line)\n",
    "  if len(line) > vir_max_seq_len:\n",
    "    vir_max_seq_len = len(line)\n",
    "  elif len(line) < vir_min_seq_len:\n",
    "    vir_min_seq_len = len(line)\n",
    "\n",
    "print('-- vira --')\n",
    "print(\"total seq length:\", vir_total_seq_len)\n",
    "print(\"total number of sequences:\", vir_total_seq)\n",
    "print(\"avg sequence lenght:\", vir_total_seq_len / vir_total_seq)\n",
    "print(\"max sequence length:\", vir_max_seq_len)\n",
    "print(\"min sequence length:\", vir_min_seq_len)"
   ]
  },
  {
   "cell_type": "code",
   "execution_count": 25,
   "metadata": {
    "colab": {
     "base_uri": "https://localhost:8080/",
     "height": 119
    },
    "colab_type": "code",
    "id": "wnxCYBoISjj8",
    "outputId": "06f9717c-1fea-41b9-afeb-05e66ba0b8f3"
   },
   "outputs": [
    {
     "name": "stdout",
     "output_type": "stream",
     "text": [
      "-- archaeas --\n",
      "total seq length: 1083806\n",
      "total number of sequences: 3314\n",
      "avg sequence lenght: 327.038624019312\n",
      "max sequence length: 2951\n",
      "min sequence length: 29\n"
     ]
    }
   ],
   "source": [
    "# average, min and max length of protein sequence in each domain - archaeas\n",
    "arc_total_seq_len = 0\n",
    "arc_max_seq_len = 0\n",
    "arc_min_seq_len = 99999\n",
    "arc_total_seq = 0\n",
    "arc_l = []\n",
    "\n",
    "# vir\n",
    "lines = read_lines(glob.glob(path + 'arc' + '_full/train.txt')[0])\n",
    "arc_total_seq = arc_total_seq + len(lines)\n",
    "for line in lines:\n",
    "  arc_l.append(len(line))\n",
    "  arc_total_seq_len = arc_total_seq_len + len(line)\n",
    "  if len(line) > arc_max_seq_len:\n",
    "    arc_max_seq_len = len(line)\n",
    "  elif len(line) < arc_min_seq_len:\n",
    "    arc_min_seq_len = len(line)\n",
    "lines = read_lines(glob.glob(path + 'arc' + '_full/valid.txt')[0])\n",
    "arc_total_seq = arc_total_seq + len(lines)\n",
    "for line in lines:\n",
    "  arc_l.append(len(line))\n",
    "  arc_total_seq_len = arc_total_seq_len + len(line)\n",
    "  if len(line) > arc_max_seq_len:\n",
    "    arc_max_seq_len = len(line)\n",
    "  elif len(line) < arc_min_seq_len:\n",
    "    arc_min_seq_len = len(line)\n",
    "lines = read_lines(glob.glob(path + 'arc' + '_full/test.txt')[0])\n",
    "arc_total_seq = arc_total_seq + len(lines)\n",
    "for line in lines:\n",
    "  arc_l.append(len(line))\n",
    "  arc_total_seq_len = arc_total_seq_len + len(line)\n",
    "  if len(line) > max_seq_len:\n",
    "    arc_max_seq_len = len(line)\n",
    "  elif len(line) < arc_min_seq_len:\n",
    "    arc_min_seq_len = len(line)\n",
    "\n",
    "print('-- archaeas --')\n",
    "print(\"total seq length:\", arc_total_seq_len)\n",
    "print(\"total number of sequences:\", arc_total_seq)\n",
    "print(\"avg sequence lenght:\", arc_total_seq_len / arc_total_seq)\n",
    "print(\"max sequence length:\", arc_max_seq_len)\n",
    "print(\"min sequence length:\", arc_min_seq_len)"
   ]
  },
  {
   "cell_type": "code",
   "execution_count": 0,
   "metadata": {
    "colab": {
     "base_uri": "https://localhost:8080/",
     "height": 295
    },
    "colab_type": "code",
    "id": "XXi1G4CKXTzc",
    "outputId": "f5bbd1b9-3ba0-493a-d63b-a3cf9b69339b"
   },
   "outputs": [
    {
     "data": {
      "image/png": "[encoded data removed]",
      "text/plain": [
       "<Figure size 432x288 with 1 Axes>"
      ]
     },
     "metadata": {
      "tags": []
     },
     "output_type": "display_data"
    }
   ],
   "source": [
    "# how many unique sequences do we have?\n",
    "# total = 103.382\n",
    "# bac = 69.785\n",
    "# vir = 30.283\n",
    "# arc = 3314\n",
    "\n",
    "plt.bar(['bac', 'vir', 'arc'],[bac_total_seq, vir_total_seq, arc_total_seq])\n",
    "plt.title('Number of sequences pr. domain')\n",
    "plt.xlabel('Domain (Organism type)')\n",
    "plt.ylabel('Total number of samples')\n",
    "plt.show()"
   ]
  },
  {
   "cell_type": "code",
   "execution_count": 0,
   "metadata": {
    "colab": {},
    "colab_type": "code",
    "id": "S4Xql7q2YK0S"
   },
   "outputs": [],
   "source": [
    "# sequence length\n",
    "# average sequence length across all three domains: 450.61295970284965\n",
    "# max sequence length across all three domains: 16990\n",
    "# min sequence length across all three domains: 7"
   ]
  },
  {
   "cell_type": "code",
   "execution_count": 0,
   "metadata": {
    "colab": {
     "base_uri": "https://localhost:8080/",
     "height": 350
    },
    "colab_type": "code",
    "id": "iAz9hKv5YKpm",
    "outputId": "8877b564-c6a5-4c80-e7e0-5fdd42b62981"
   },
   "outputs": [
    {
     "data": {
      "image/png": "[encoded data removed]",
      "text/plain": [
       "<Figure size 1080x360 with 1 Axes>"
      ]
     },
     "metadata": {
      "tags": []
     },
     "output_type": "display_data"
    }
   ],
   "source": [
    "plt.figure(figsize=(15,5))\n",
    "plt.boxplot([bac_l, vir_l, arc_l],vert=False, labels=['bac','vir','arc'])\n",
    "plt.title('Boxplot of sequence lengths in the three domains')\n",
    "plt.xlabel('Sequence length')\n",
    "plt.ylabel('Domain (Organism type)')\n",
    "plt.savefig('boxplot-full.png', format='png')\n",
    "plt.show()"
   ]
  },
  {
   "cell_type": "code",
   "execution_count": 0,
   "metadata": {
    "colab": {
     "base_uri": "https://localhost:8080/",
     "height": 295
    },
    "colab_type": "code",
    "id": "46kLlFK4h4qP",
    "outputId": "476a45c0-f84b-4e5d-b392-790b67af07b2"
   },
   "outputs": [
    {
     "data": {
      "image/png": "[encoded data removed]",
      "text/plain": [
       "<Figure size 432x288 with 1 Axes>"
      ]
     },
     "metadata": {
      "tags": []
     },
     "output_type": "display_data"
    }
   ],
   "source": [
    "#plt.figure(figsize=(8,3))\n",
    "data = [bac_l, vir_l, arc_l]\n",
    "plt.boxplot(data,vert=False, labels=['bac','vir','arc'], manage_ticks=True)\n",
    "plt.xticks(np.arange(0, 17000, 200))\n",
    "plt.title('Boxplot of sequence lengths in the three domains')\n",
    "plt.xlabel('Sequence length')\n",
    "plt.ylabel('Domain (Organism type)')\n",
    "plt.xlim([0,1500])\n",
    "plt.savefig('boxplot-cut.png',format='png')\n",
    "plt.show()"
   ]
  }
 ],
 "metadata": {
  "accelerator": "GPU",
  "colab": {
   "collapsed_sections": [],
   "name": "Protein conditional generation.ipynb",
   "provenance": [],
   "toc_visible": true
  },
  "kernelspec": {
   "display_name": "Python 3",
   "language": "python",
   "name": "python3"
  },
  "language_info": {
   "codemirror_mode": {
    "name": "ipython",
    "version": 3
   },
   "file_extension": ".py",
   "mimetype": "text/x-python",
   "name": "python",
   "nbconvert_exporter": "python",
   "pygments_lexer": "ipython3",
   "version": "3.7.1"
  }
 },
 "nbformat": 4,
 "nbformat_minor": 1
}
